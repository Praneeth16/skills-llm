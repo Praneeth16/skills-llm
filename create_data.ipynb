{
 "cells": [
  {
   "cell_type": "code",
   "execution_count": 40,
   "metadata": {},
   "outputs": [],
   "source": [
    "import re\n",
    "import os\n",
    "from glob import glob\n",
    "\n",
    "import matplotlib.pyplot as plt\n",
    "import nltk\n",
    "import pandas as pd\n",
    "import plotly.express as px\n",
    "from sklearn.model_selection import train_test_split\n",
    "from tqdm import tqdm\n",
    "\n",
    "plt.style.use('fivethirtyeight') \n",
    "pd.set_option(\"display.max_columns\", None)"
   ]
  },
  {
   "cell_type": "code",
   "execution_count": 2,
   "metadata": {},
   "outputs": [],
   "source": [
    "# general settings\n",
    "class CFG:\n",
    "    img_dim1 = 20\n",
    "    img_dim2 = 10\n",
    "    \n",
    "# adjust the parameters for displayed figures    \n",
    "plt.rcParams.update({'figure.figsize': (CFG.img_dim1,CFG.img_dim2)})    "
   ]
  },
  {
   "cell_type": "code",
   "execution_count": 3,
   "metadata": {},
   "outputs": [
    {
     "name": "stdout",
     "output_type": "stream",
     "text": [
      "56\n"
     ]
    }
   ],
   "source": [
    "# list of JDs of companies\n",
    "files = glob(\"data\\scraped_jds\\*.csv\")\n",
    "print(len(files))"
   ]
  },
  {
   "cell_type": "code",
   "execution_count": 4,
   "metadata": {},
   "outputs": [
    {
     "name": "stderr",
     "output_type": "stream",
     "text": [
      "  0%|          | 0/56 [00:00<?, ?it/s]"
     ]
    },
    {
     "name": "stderr",
     "output_type": "stream",
     "text": [
      "100%|██████████| 56/56 [00:05<00:00, 10.83it/s]\n"
     ]
    },
    {
     "name": "stdout",
     "output_type": "stream",
     "text": [
      "(93859, 10)\n"
     ]
    },
    {
     "data": {
      "text/html": [
       "<div>\n",
       "<style scoped>\n",
       "    .dataframe tbody tr th:only-of-type {\n",
       "        vertical-align: middle;\n",
       "    }\n",
       "\n",
       "    .dataframe tbody tr th {\n",
       "        vertical-align: top;\n",
       "    }\n",
       "\n",
       "    .dataframe thead th {\n",
       "        text-align: right;\n",
       "    }\n",
       "</style>\n",
       "<table border=\"1\" class=\"dataframe\">\n",
       "  <thead>\n",
       "    <tr style=\"text-align: right;\">\n",
       "      <th></th>\n",
       "      <th>Job ID</th>\n",
       "      <th>Employer</th>\n",
       "      <th>First Seen Date</th>\n",
       "      <th>Title</th>\n",
       "      <th>Occupation Name</th>\n",
       "      <th>City</th>\n",
       "      <th>State</th>\n",
       "      <th>Job_Type</th>\n",
       "      <th>Education</th>\n",
       "      <th>Description</th>\n",
       "    </tr>\n",
       "  </thead>\n",
       "  <tbody>\n",
       "    <tr>\n",
       "      <th>0</th>\n",
       "      <td>1</td>\n",
       "      <td>ACCENTURE</td>\n",
       "      <td>2023-08-03</td>\n",
       "      <td>Application Developer</td>\n",
       "      <td>Software Developers, Applications</td>\n",
       "      <td>Multiple locations</td>\n",
       "      <td>NaN</td>\n",
       "      <td>Full-Time,Permanent</td>\n",
       "      <td>Bachelor's Degree</td>\n",
       "      <td>Experience:</td>\n",
       "    </tr>\n",
       "    <tr>\n",
       "      <th>1</th>\n",
       "      <td>2</td>\n",
       "      <td>ACCENTURE</td>\n",
       "      <td>2023-07-28</td>\n",
       "      <td>SnapLogic Application Lead</td>\n",
       "      <td>Software Developers, Applications</td>\n",
       "      <td>Pune</td>\n",
       "      <td>Mahārāshtra</td>\n",
       "      <td>Full-Time,Permanent</td>\n",
       "      <td>Bachelor's Degree</td>\n",
       "      <td>Job Description About Accenture: Accenture is ...</td>\n",
       "    </tr>\n",
       "    <tr>\n",
       "      <th>2</th>\n",
       "      <td>3</td>\n",
       "      <td>ACCENTURE</td>\n",
       "      <td>2023-07-28</td>\n",
       "      <td>Machine Learning Application Architect</td>\n",
       "      <td>Software Developers, Applications</td>\n",
       "      <td>Bangalore</td>\n",
       "      <td>Karnātaka</td>\n",
       "      <td>Full-Time,Permanent</td>\n",
       "      <td>Bachelor's Degree</td>\n",
       "      <td>Job Description About Accenture: Accenture is ...</td>\n",
       "    </tr>\n",
       "    <tr>\n",
       "      <th>3</th>\n",
       "      <td>4</td>\n",
       "      <td>ACCENTURE</td>\n",
       "      <td>2023-07-28</td>\n",
       "      <td>Oracle Procedural Language Extensions to SQL (...</td>\n",
       "      <td>Software Developers, Applications</td>\n",
       "      <td>Chennai</td>\n",
       "      <td>Tamil Nādu</td>\n",
       "      <td>Full-Time,Permanent</td>\n",
       "      <td>Bachelor's Degree</td>\n",
       "      <td>Job Description About Accenture: Accenture is ...</td>\n",
       "    </tr>\n",
       "    <tr>\n",
       "      <th>4</th>\n",
       "      <td>5</td>\n",
       "      <td>ACCENTURE</td>\n",
       "      <td>2023-07-29</td>\n",
       "      <td>ESRI ArcGIS Application Developer</td>\n",
       "      <td>Software Developers, Applications</td>\n",
       "      <td>Pune</td>\n",
       "      <td>Mahārāshtra</td>\n",
       "      <td>Full-Time,Permanent</td>\n",
       "      <td>Bachelor's Degree</td>\n",
       "      <td>Job Description About Accenture: Accenture is ...</td>\n",
       "    </tr>\n",
       "  </tbody>\n",
       "</table>\n",
       "</div>"
      ],
      "text/plain": [
       "   Job ID   Employer First Seen Date  \\\n",
       "0       1  ACCENTURE      2023-08-03   \n",
       "1       2  ACCENTURE      2023-07-28   \n",
       "2       3  ACCENTURE      2023-07-28   \n",
       "3       4  ACCENTURE      2023-07-28   \n",
       "4       5  ACCENTURE      2023-07-29   \n",
       "\n",
       "                                               Title  \\\n",
       "0                              Application Developer   \n",
       "1                         SnapLogic Application Lead   \n",
       "2             Machine Learning Application Architect   \n",
       "3  Oracle Procedural Language Extensions to SQL (...   \n",
       "4                  ESRI ArcGIS Application Developer   \n",
       "\n",
       "                     Occupation Name                City        State  \\\n",
       "0  Software Developers, Applications  Multiple locations          NaN   \n",
       "1  Software Developers, Applications                Pune  Mahārāshtra   \n",
       "2  Software Developers, Applications           Bangalore    Karnātaka   \n",
       "3  Software Developers, Applications             Chennai   Tamil Nādu   \n",
       "4  Software Developers, Applications                Pune  Mahārāshtra   \n",
       "\n",
       "              Job_Type          Education  \\\n",
       "0  Full-Time,Permanent  Bachelor's Degree   \n",
       "1  Full-Time,Permanent  Bachelor's Degree   \n",
       "2  Full-Time,Permanent  Bachelor's Degree   \n",
       "3  Full-Time,Permanent  Bachelor's Degree   \n",
       "4  Full-Time,Permanent  Bachelor's Degree   \n",
       "\n",
       "                                         Description  \n",
       "0                                        Experience:  \n",
       "1  Job Description About Accenture: Accenture is ...  \n",
       "2  Job Description About Accenture: Accenture is ...  \n",
       "3  Job Description About Accenture: Accenture is ...  \n",
       "4  Job Description About Accenture: Accenture is ...  "
      ]
     },
     "execution_count": 4,
     "metadata": {},
     "output_type": "execute_result"
    }
   ],
   "source": [
    "df = pd.concat([pd.read_csv(file) for file in tqdm(files)])\\\n",
    "    [[\"Employer\",\n",
    "    \"First Seen Date\",\n",
    "    \"Title (Job Title)\",\n",
    "    \"Occupation Name\",\n",
    "    \"City\",\n",
    "    \"State\",\n",
    "    \"Job_Type\",\n",
    "    \"Education\",\n",
    "    \"Description\"\n",
    "    ]]\\\n",
    "    .drop_duplicates(\"Description\", keep='first')\\\n",
    "    .rename(columns={\"Title (Job Title)\": \"Title\", \"index\": \"Job ID\"})\n",
    "\n",
    "df = df[df.Description.notnull()]\\\n",
    "    .reset_index(drop=True)\\\n",
    "    .reset_index()\\\n",
    "    .rename(columns={\"index\": \"Job ID\"})\n",
    "df[\"Job ID\"] = df[\"Job ID\"] + 1\n",
    "df[\"First Seen Date\"] = pd.to_datetime(df[\"First Seen Date\"])\n",
    "print(df.shape)\n",
    "df.head()"
   ]
  },
  {
   "cell_type": "code",
   "execution_count": 5,
   "metadata": {},
   "outputs": [
    {
     "name": "stdout",
     "output_type": "stream",
     "text": [
      "<class 'pandas.core.frame.DataFrame'>\n",
      "RangeIndex: 93859 entries, 0 to 93858\n",
      "Data columns (total 10 columns):\n",
      " #   Column           Non-Null Count  Dtype         \n",
      "---  ------           --------------  -----         \n",
      " 0   Job ID           93859 non-null  int64         \n",
      " 1   Employer         93859 non-null  object        \n",
      " 2   First Seen Date  93859 non-null  datetime64[ns]\n",
      " 3   Title            93859 non-null  object        \n",
      " 4   Occupation Name  93859 non-null  object        \n",
      " 5   City             93859 non-null  object        \n",
      " 6   State            87251 non-null  object        \n",
      " 7   Job_Type         93859 non-null  object        \n",
      " 8   Education        93859 non-null  object        \n",
      " 9   Description      93859 non-null  object        \n",
      "dtypes: datetime64[ns](1), int64(1), object(8)\n",
      "memory usage: 7.2+ MB\n"
     ]
    }
   ],
   "source": [
    "df.info()"
   ]
  },
  {
   "cell_type": "code",
   "execution_count": 6,
   "metadata": {},
   "outputs": [
    {
     "name": "stdout",
     "output_type": "stream",
     "text": [
      "File already exists\n"
     ]
    }
   ],
   "source": [
    "if os.path.isfile(\"data/job_description_combined.csv\"):\n",
    "    print(\"File already exists\")\n",
    "else:\n",
    "    df.to_csv(\"data/job_description_combined.csv\", index=False)\n",
    "    print(\"File saved\")"
   ]
  },
  {
   "attachments": {},
   "cell_type": "markdown",
   "metadata": {},
   "source": [
    "### EDA"
   ]
  },
  {
   "cell_type": "code",
   "execution_count": 7,
   "metadata": {},
   "outputs": [
    {
     "name": "stdout",
     "output_type": "stream",
     "text": [
      "Total number of Job Descriptions: 93859\n"
     ]
    }
   ],
   "source": [
    "print(f\"Total number of Job Descriptions: {df.shape[0]}\")"
   ]
  },
  {
   "cell_type": "code",
   "execution_count": 8,
   "metadata": {},
   "outputs": [
    {
     "name": "stdout",
     "output_type": "stream",
     "text": [
      "Number of companies considered: 47\n"
     ]
    }
   ],
   "source": [
    "print(f\"Number of companies considered: {df.Employer.nunique()}\")"
   ]
  },
  {
   "cell_type": "code",
   "execution_count": 9,
   "metadata": {},
   "outputs": [
    {
     "name": "stdout",
     "output_type": "stream",
     "text": [
      "2021-08-06 00:00:00\n",
      "2023-08-05 00:00:00\n"
     ]
    }
   ],
   "source": [
    "print(df['First Seen Date'].min())\n",
    "print(df['First Seen Date'].max())"
   ]
  },
  {
   "cell_type": "code",
   "execution_count": 10,
   "metadata": {},
   "outputs": [
    {
     "data": {
      "application/vnd.plotly.v1+json": {
       "config": {
        "plotlyServerURL": "https://plot.ly"
       },
       "data": [
        {
         "alignmentgroup": "True",
         "hovertemplate": "variable=Employer<br>value=%{x}<br>index=%{y}<extra></extra>",
         "legendgroup": "Employer",
         "marker": {
          "color": "#636efa",
          "pattern": {
           "shape": ""
          }
         },
         "name": "Employer",
         "offsetgroup": "Employer",
         "orientation": "h",
         "showlegend": true,
         "textposition": "auto",
         "type": "bar",
         "x": [
          7063,
          6376,
          5512,
          5156,
          4541,
          4320,
          4152,
          4088,
          3973,
          3912
         ],
         "xaxis": "x",
         "y": [
          "JPMorgan Chase & Co.",
          "Infosys Technologies",
          "Amazon",
          "IBM",
          "Tata Consultancy Services",
          "ACCENTURE",
          "Bank Of America",
          "Lockheed Martin",
          "Oracle",
          "Google"
         ],
         "yaxis": "y"
        }
       ],
       "layout": {
        "barmode": "relative",
        "legend": {
         "title": {
          "text": "variable"
         },
         "tracegroupgap": 0
        },
        "margin": {
         "t": 60
        },
        "template": {
         "data": {
          "bar": [
           {
            "error_x": {
             "color": "#2a3f5f"
            },
            "error_y": {
             "color": "#2a3f5f"
            },
            "marker": {
             "line": {
              "color": "#E5ECF6",
              "width": 0.5
             },
             "pattern": {
              "fillmode": "overlay",
              "size": 10,
              "solidity": 0.2
             }
            },
            "type": "bar"
           }
          ],
          "barpolar": [
           {
            "marker": {
             "line": {
              "color": "#E5ECF6",
              "width": 0.5
             },
             "pattern": {
              "fillmode": "overlay",
              "size": 10,
              "solidity": 0.2
             }
            },
            "type": "barpolar"
           }
          ],
          "carpet": [
           {
            "aaxis": {
             "endlinecolor": "#2a3f5f",
             "gridcolor": "white",
             "linecolor": "white",
             "minorgridcolor": "white",
             "startlinecolor": "#2a3f5f"
            },
            "baxis": {
             "endlinecolor": "#2a3f5f",
             "gridcolor": "white",
             "linecolor": "white",
             "minorgridcolor": "white",
             "startlinecolor": "#2a3f5f"
            },
            "type": "carpet"
           }
          ],
          "choropleth": [
           {
            "colorbar": {
             "outlinewidth": 0,
             "ticks": ""
            },
            "type": "choropleth"
           }
          ],
          "contour": [
           {
            "colorbar": {
             "outlinewidth": 0,
             "ticks": ""
            },
            "colorscale": [
             [
              0,
              "#0d0887"
             ],
             [
              0.1111111111111111,
              "#46039f"
             ],
             [
              0.2222222222222222,
              "#7201a8"
             ],
             [
              0.3333333333333333,
              "#9c179e"
             ],
             [
              0.4444444444444444,
              "#bd3786"
             ],
             [
              0.5555555555555556,
              "#d8576b"
             ],
             [
              0.6666666666666666,
              "#ed7953"
             ],
             [
              0.7777777777777778,
              "#fb9f3a"
             ],
             [
              0.8888888888888888,
              "#fdca26"
             ],
             [
              1,
              "#f0f921"
             ]
            ],
            "type": "contour"
           }
          ],
          "contourcarpet": [
           {
            "colorbar": {
             "outlinewidth": 0,
             "ticks": ""
            },
            "type": "contourcarpet"
           }
          ],
          "heatmap": [
           {
            "colorbar": {
             "outlinewidth": 0,
             "ticks": ""
            },
            "colorscale": [
             [
              0,
              "#0d0887"
             ],
             [
              0.1111111111111111,
              "#46039f"
             ],
             [
              0.2222222222222222,
              "#7201a8"
             ],
             [
              0.3333333333333333,
              "#9c179e"
             ],
             [
              0.4444444444444444,
              "#bd3786"
             ],
             [
              0.5555555555555556,
              "#d8576b"
             ],
             [
              0.6666666666666666,
              "#ed7953"
             ],
             [
              0.7777777777777778,
              "#fb9f3a"
             ],
             [
              0.8888888888888888,
              "#fdca26"
             ],
             [
              1,
              "#f0f921"
             ]
            ],
            "type": "heatmap"
           }
          ],
          "heatmapgl": [
           {
            "colorbar": {
             "outlinewidth": 0,
             "ticks": ""
            },
            "colorscale": [
             [
              0,
              "#0d0887"
             ],
             [
              0.1111111111111111,
              "#46039f"
             ],
             [
              0.2222222222222222,
              "#7201a8"
             ],
             [
              0.3333333333333333,
              "#9c179e"
             ],
             [
              0.4444444444444444,
              "#bd3786"
             ],
             [
              0.5555555555555556,
              "#d8576b"
             ],
             [
              0.6666666666666666,
              "#ed7953"
             ],
             [
              0.7777777777777778,
              "#fb9f3a"
             ],
             [
              0.8888888888888888,
              "#fdca26"
             ],
             [
              1,
              "#f0f921"
             ]
            ],
            "type": "heatmapgl"
           }
          ],
          "histogram": [
           {
            "marker": {
             "pattern": {
              "fillmode": "overlay",
              "size": 10,
              "solidity": 0.2
             }
            },
            "type": "histogram"
           }
          ],
          "histogram2d": [
           {
            "colorbar": {
             "outlinewidth": 0,
             "ticks": ""
            },
            "colorscale": [
             [
              0,
              "#0d0887"
             ],
             [
              0.1111111111111111,
              "#46039f"
             ],
             [
              0.2222222222222222,
              "#7201a8"
             ],
             [
              0.3333333333333333,
              "#9c179e"
             ],
             [
              0.4444444444444444,
              "#bd3786"
             ],
             [
              0.5555555555555556,
              "#d8576b"
             ],
             [
              0.6666666666666666,
              "#ed7953"
             ],
             [
              0.7777777777777778,
              "#fb9f3a"
             ],
             [
              0.8888888888888888,
              "#fdca26"
             ],
             [
              1,
              "#f0f921"
             ]
            ],
            "type": "histogram2d"
           }
          ],
          "histogram2dcontour": [
           {
            "colorbar": {
             "outlinewidth": 0,
             "ticks": ""
            },
            "colorscale": [
             [
              0,
              "#0d0887"
             ],
             [
              0.1111111111111111,
              "#46039f"
             ],
             [
              0.2222222222222222,
              "#7201a8"
             ],
             [
              0.3333333333333333,
              "#9c179e"
             ],
             [
              0.4444444444444444,
              "#bd3786"
             ],
             [
              0.5555555555555556,
              "#d8576b"
             ],
             [
              0.6666666666666666,
              "#ed7953"
             ],
             [
              0.7777777777777778,
              "#fb9f3a"
             ],
             [
              0.8888888888888888,
              "#fdca26"
             ],
             [
              1,
              "#f0f921"
             ]
            ],
            "type": "histogram2dcontour"
           }
          ],
          "mesh3d": [
           {
            "colorbar": {
             "outlinewidth": 0,
             "ticks": ""
            },
            "type": "mesh3d"
           }
          ],
          "parcoords": [
           {
            "line": {
             "colorbar": {
              "outlinewidth": 0,
              "ticks": ""
             }
            },
            "type": "parcoords"
           }
          ],
          "pie": [
           {
            "automargin": true,
            "type": "pie"
           }
          ],
          "scatter": [
           {
            "fillpattern": {
             "fillmode": "overlay",
             "size": 10,
             "solidity": 0.2
            },
            "type": "scatter"
           }
          ],
          "scatter3d": [
           {
            "line": {
             "colorbar": {
              "outlinewidth": 0,
              "ticks": ""
             }
            },
            "marker": {
             "colorbar": {
              "outlinewidth": 0,
              "ticks": ""
             }
            },
            "type": "scatter3d"
           }
          ],
          "scattercarpet": [
           {
            "marker": {
             "colorbar": {
              "outlinewidth": 0,
              "ticks": ""
             }
            },
            "type": "scattercarpet"
           }
          ],
          "scattergeo": [
           {
            "marker": {
             "colorbar": {
              "outlinewidth": 0,
              "ticks": ""
             }
            },
            "type": "scattergeo"
           }
          ],
          "scattergl": [
           {
            "marker": {
             "colorbar": {
              "outlinewidth": 0,
              "ticks": ""
             }
            },
            "type": "scattergl"
           }
          ],
          "scattermapbox": [
           {
            "marker": {
             "colorbar": {
              "outlinewidth": 0,
              "ticks": ""
             }
            },
            "type": "scattermapbox"
           }
          ],
          "scatterpolar": [
           {
            "marker": {
             "colorbar": {
              "outlinewidth": 0,
              "ticks": ""
             }
            },
            "type": "scatterpolar"
           }
          ],
          "scatterpolargl": [
           {
            "marker": {
             "colorbar": {
              "outlinewidth": 0,
              "ticks": ""
             }
            },
            "type": "scatterpolargl"
           }
          ],
          "scatterternary": [
           {
            "marker": {
             "colorbar": {
              "outlinewidth": 0,
              "ticks": ""
             }
            },
            "type": "scatterternary"
           }
          ],
          "surface": [
           {
            "colorbar": {
             "outlinewidth": 0,
             "ticks": ""
            },
            "colorscale": [
             [
              0,
              "#0d0887"
             ],
             [
              0.1111111111111111,
              "#46039f"
             ],
             [
              0.2222222222222222,
              "#7201a8"
             ],
             [
              0.3333333333333333,
              "#9c179e"
             ],
             [
              0.4444444444444444,
              "#bd3786"
             ],
             [
              0.5555555555555556,
              "#d8576b"
             ],
             [
              0.6666666666666666,
              "#ed7953"
             ],
             [
              0.7777777777777778,
              "#fb9f3a"
             ],
             [
              0.8888888888888888,
              "#fdca26"
             ],
             [
              1,
              "#f0f921"
             ]
            ],
            "type": "surface"
           }
          ],
          "table": [
           {
            "cells": {
             "fill": {
              "color": "#EBF0F8"
             },
             "line": {
              "color": "white"
             }
            },
            "header": {
             "fill": {
              "color": "#C8D4E3"
             },
             "line": {
              "color": "white"
             }
            },
            "type": "table"
           }
          ]
         },
         "layout": {
          "annotationdefaults": {
           "arrowcolor": "#2a3f5f",
           "arrowhead": 0,
           "arrowwidth": 1
          },
          "autotypenumbers": "strict",
          "coloraxis": {
           "colorbar": {
            "outlinewidth": 0,
            "ticks": ""
           }
          },
          "colorscale": {
           "diverging": [
            [
             0,
             "#8e0152"
            ],
            [
             0.1,
             "#c51b7d"
            ],
            [
             0.2,
             "#de77ae"
            ],
            [
             0.3,
             "#f1b6da"
            ],
            [
             0.4,
             "#fde0ef"
            ],
            [
             0.5,
             "#f7f7f7"
            ],
            [
             0.6,
             "#e6f5d0"
            ],
            [
             0.7,
             "#b8e186"
            ],
            [
             0.8,
             "#7fbc41"
            ],
            [
             0.9,
             "#4d9221"
            ],
            [
             1,
             "#276419"
            ]
           ],
           "sequential": [
            [
             0,
             "#0d0887"
            ],
            [
             0.1111111111111111,
             "#46039f"
            ],
            [
             0.2222222222222222,
             "#7201a8"
            ],
            [
             0.3333333333333333,
             "#9c179e"
            ],
            [
             0.4444444444444444,
             "#bd3786"
            ],
            [
             0.5555555555555556,
             "#d8576b"
            ],
            [
             0.6666666666666666,
             "#ed7953"
            ],
            [
             0.7777777777777778,
             "#fb9f3a"
            ],
            [
             0.8888888888888888,
             "#fdca26"
            ],
            [
             1,
             "#f0f921"
            ]
           ],
           "sequentialminus": [
            [
             0,
             "#0d0887"
            ],
            [
             0.1111111111111111,
             "#46039f"
            ],
            [
             0.2222222222222222,
             "#7201a8"
            ],
            [
             0.3333333333333333,
             "#9c179e"
            ],
            [
             0.4444444444444444,
             "#bd3786"
            ],
            [
             0.5555555555555556,
             "#d8576b"
            ],
            [
             0.6666666666666666,
             "#ed7953"
            ],
            [
             0.7777777777777778,
             "#fb9f3a"
            ],
            [
             0.8888888888888888,
             "#fdca26"
            ],
            [
             1,
             "#f0f921"
            ]
           ]
          },
          "colorway": [
           "#636efa",
           "#EF553B",
           "#00cc96",
           "#ab63fa",
           "#FFA15A",
           "#19d3f3",
           "#FF6692",
           "#B6E880",
           "#FF97FF",
           "#FECB52"
          ],
          "font": {
           "color": "#2a3f5f"
          },
          "geo": {
           "bgcolor": "white",
           "lakecolor": "white",
           "landcolor": "#E5ECF6",
           "showlakes": true,
           "showland": true,
           "subunitcolor": "white"
          },
          "hoverlabel": {
           "align": "left"
          },
          "hovermode": "closest",
          "mapbox": {
           "style": "light"
          },
          "paper_bgcolor": "white",
          "plot_bgcolor": "#E5ECF6",
          "polar": {
           "angularaxis": {
            "gridcolor": "white",
            "linecolor": "white",
            "ticks": ""
           },
           "bgcolor": "#E5ECF6",
           "radialaxis": {
            "gridcolor": "white",
            "linecolor": "white",
            "ticks": ""
           }
          },
          "scene": {
           "xaxis": {
            "backgroundcolor": "#E5ECF6",
            "gridcolor": "white",
            "gridwidth": 2,
            "linecolor": "white",
            "showbackground": true,
            "ticks": "",
            "zerolinecolor": "white"
           },
           "yaxis": {
            "backgroundcolor": "#E5ECF6",
            "gridcolor": "white",
            "gridwidth": 2,
            "linecolor": "white",
            "showbackground": true,
            "ticks": "",
            "zerolinecolor": "white"
           },
           "zaxis": {
            "backgroundcolor": "#E5ECF6",
            "gridcolor": "white",
            "gridwidth": 2,
            "linecolor": "white",
            "showbackground": true,
            "ticks": "",
            "zerolinecolor": "white"
           }
          },
          "shapedefaults": {
           "line": {
            "color": "#2a3f5f"
           }
          },
          "ternary": {
           "aaxis": {
            "gridcolor": "white",
            "linecolor": "white",
            "ticks": ""
           },
           "baxis": {
            "gridcolor": "white",
            "linecolor": "white",
            "ticks": ""
           },
           "bgcolor": "#E5ECF6",
           "caxis": {
            "gridcolor": "white",
            "linecolor": "white",
            "ticks": ""
           }
          },
          "title": {
           "x": 0.05
          },
          "xaxis": {
           "automargin": true,
           "gridcolor": "white",
           "linecolor": "white",
           "ticks": "",
           "title": {
            "standoff": 15
           },
           "zerolinecolor": "white",
           "zerolinewidth": 2
          },
          "yaxis": {
           "automargin": true,
           "gridcolor": "white",
           "linecolor": "white",
           "ticks": "",
           "title": {
            "standoff": 15
           },
           "zerolinecolor": "white",
           "zerolinewidth": 2
          }
         }
        },
        "title": {
         "text": "Distribution of JDs across Top 10 companies"
        },
        "xaxis": {
         "anchor": "y",
         "domain": [
          0,
          1
         ],
         "title": {
          "text": "# JDs"
         }
        },
        "yaxis": {
         "anchor": "x",
         "domain": [
          0,
          1
         ],
         "title": {
          "text": "Company"
         }
        }
       }
      }
     },
     "metadata": {},
     "output_type": "display_data"
    }
   ],
   "source": [
    "fig = px.bar(df.Employer.value_counts().head(10), orientation=\"h\")\n",
    "fig.update_layout(xaxis_title=\"# JDs\", \n",
    "                yaxis_title=\"Company\",\n",
    "                title=\"Distribution of JDs across Top 10 companies\"\n",
    "                )\n",
    "fig.show()"
   ]
  },
  {
   "cell_type": "code",
   "execution_count": 11,
   "metadata": {},
   "outputs": [
    {
     "data": {
      "application/vnd.plotly.v1+json": {
       "config": {
        "plotlyServerURL": "https://plot.ly"
       },
       "data": [
        {
         "alignmentgroup": "True",
         "hovertemplate": "variable=Education<br>index=%{x}<br>value=%{y}<extra></extra>",
         "legendgroup": "Education",
         "marker": {
          "color": "#636efa",
          "pattern": {
           "shape": ""
          }
         },
         "name": "Education",
         "offsetgroup": "Education",
         "orientation": "v",
         "showlegend": true,
         "textposition": "auto",
         "type": "bar",
         "x": [
          "Bachelor's Degree",
          "Master's Degree",
          "Doctoral Degree",
          "Associate Level",
          "GED/High School",
          "Not available"
         ],
         "xaxis": "x",
         "y": [
          89811,
          2425,
          625,
          503,
          482,
          13
         ],
         "yaxis": "y"
        }
       ],
       "layout": {
        "barmode": "relative",
        "legend": {
         "title": {
          "text": "variable"
         },
         "tracegroupgap": 0
        },
        "margin": {
         "t": 60
        },
        "template": {
         "data": {
          "bar": [
           {
            "error_x": {
             "color": "#2a3f5f"
            },
            "error_y": {
             "color": "#2a3f5f"
            },
            "marker": {
             "line": {
              "color": "#E5ECF6",
              "width": 0.5
             },
             "pattern": {
              "fillmode": "overlay",
              "size": 10,
              "solidity": 0.2
             }
            },
            "type": "bar"
           }
          ],
          "barpolar": [
           {
            "marker": {
             "line": {
              "color": "#E5ECF6",
              "width": 0.5
             },
             "pattern": {
              "fillmode": "overlay",
              "size": 10,
              "solidity": 0.2
             }
            },
            "type": "barpolar"
           }
          ],
          "carpet": [
           {
            "aaxis": {
             "endlinecolor": "#2a3f5f",
             "gridcolor": "white",
             "linecolor": "white",
             "minorgridcolor": "white",
             "startlinecolor": "#2a3f5f"
            },
            "baxis": {
             "endlinecolor": "#2a3f5f",
             "gridcolor": "white",
             "linecolor": "white",
             "minorgridcolor": "white",
             "startlinecolor": "#2a3f5f"
            },
            "type": "carpet"
           }
          ],
          "choropleth": [
           {
            "colorbar": {
             "outlinewidth": 0,
             "ticks": ""
            },
            "type": "choropleth"
           }
          ],
          "contour": [
           {
            "colorbar": {
             "outlinewidth": 0,
             "ticks": ""
            },
            "colorscale": [
             [
              0,
              "#0d0887"
             ],
             [
              0.1111111111111111,
              "#46039f"
             ],
             [
              0.2222222222222222,
              "#7201a8"
             ],
             [
              0.3333333333333333,
              "#9c179e"
             ],
             [
              0.4444444444444444,
              "#bd3786"
             ],
             [
              0.5555555555555556,
              "#d8576b"
             ],
             [
              0.6666666666666666,
              "#ed7953"
             ],
             [
              0.7777777777777778,
              "#fb9f3a"
             ],
             [
              0.8888888888888888,
              "#fdca26"
             ],
             [
              1,
              "#f0f921"
             ]
            ],
            "type": "contour"
           }
          ],
          "contourcarpet": [
           {
            "colorbar": {
             "outlinewidth": 0,
             "ticks": ""
            },
            "type": "contourcarpet"
           }
          ],
          "heatmap": [
           {
            "colorbar": {
             "outlinewidth": 0,
             "ticks": ""
            },
            "colorscale": [
             [
              0,
              "#0d0887"
             ],
             [
              0.1111111111111111,
              "#46039f"
             ],
             [
              0.2222222222222222,
              "#7201a8"
             ],
             [
              0.3333333333333333,
              "#9c179e"
             ],
             [
              0.4444444444444444,
              "#bd3786"
             ],
             [
              0.5555555555555556,
              "#d8576b"
             ],
             [
              0.6666666666666666,
              "#ed7953"
             ],
             [
              0.7777777777777778,
              "#fb9f3a"
             ],
             [
              0.8888888888888888,
              "#fdca26"
             ],
             [
              1,
              "#f0f921"
             ]
            ],
            "type": "heatmap"
           }
          ],
          "heatmapgl": [
           {
            "colorbar": {
             "outlinewidth": 0,
             "ticks": ""
            },
            "colorscale": [
             [
              0,
              "#0d0887"
             ],
             [
              0.1111111111111111,
              "#46039f"
             ],
             [
              0.2222222222222222,
              "#7201a8"
             ],
             [
              0.3333333333333333,
              "#9c179e"
             ],
             [
              0.4444444444444444,
              "#bd3786"
             ],
             [
              0.5555555555555556,
              "#d8576b"
             ],
             [
              0.6666666666666666,
              "#ed7953"
             ],
             [
              0.7777777777777778,
              "#fb9f3a"
             ],
             [
              0.8888888888888888,
              "#fdca26"
             ],
             [
              1,
              "#f0f921"
             ]
            ],
            "type": "heatmapgl"
           }
          ],
          "histogram": [
           {
            "marker": {
             "pattern": {
              "fillmode": "overlay",
              "size": 10,
              "solidity": 0.2
             }
            },
            "type": "histogram"
           }
          ],
          "histogram2d": [
           {
            "colorbar": {
             "outlinewidth": 0,
             "ticks": ""
            },
            "colorscale": [
             [
              0,
              "#0d0887"
             ],
             [
              0.1111111111111111,
              "#46039f"
             ],
             [
              0.2222222222222222,
              "#7201a8"
             ],
             [
              0.3333333333333333,
              "#9c179e"
             ],
             [
              0.4444444444444444,
              "#bd3786"
             ],
             [
              0.5555555555555556,
              "#d8576b"
             ],
             [
              0.6666666666666666,
              "#ed7953"
             ],
             [
              0.7777777777777778,
              "#fb9f3a"
             ],
             [
              0.8888888888888888,
              "#fdca26"
             ],
             [
              1,
              "#f0f921"
             ]
            ],
            "type": "histogram2d"
           }
          ],
          "histogram2dcontour": [
           {
            "colorbar": {
             "outlinewidth": 0,
             "ticks": ""
            },
            "colorscale": [
             [
              0,
              "#0d0887"
             ],
             [
              0.1111111111111111,
              "#46039f"
             ],
             [
              0.2222222222222222,
              "#7201a8"
             ],
             [
              0.3333333333333333,
              "#9c179e"
             ],
             [
              0.4444444444444444,
              "#bd3786"
             ],
             [
              0.5555555555555556,
              "#d8576b"
             ],
             [
              0.6666666666666666,
              "#ed7953"
             ],
             [
              0.7777777777777778,
              "#fb9f3a"
             ],
             [
              0.8888888888888888,
              "#fdca26"
             ],
             [
              1,
              "#f0f921"
             ]
            ],
            "type": "histogram2dcontour"
           }
          ],
          "mesh3d": [
           {
            "colorbar": {
             "outlinewidth": 0,
             "ticks": ""
            },
            "type": "mesh3d"
           }
          ],
          "parcoords": [
           {
            "line": {
             "colorbar": {
              "outlinewidth": 0,
              "ticks": ""
             }
            },
            "type": "parcoords"
           }
          ],
          "pie": [
           {
            "automargin": true,
            "type": "pie"
           }
          ],
          "scatter": [
           {
            "fillpattern": {
             "fillmode": "overlay",
             "size": 10,
             "solidity": 0.2
            },
            "type": "scatter"
           }
          ],
          "scatter3d": [
           {
            "line": {
             "colorbar": {
              "outlinewidth": 0,
              "ticks": ""
             }
            },
            "marker": {
             "colorbar": {
              "outlinewidth": 0,
              "ticks": ""
             }
            },
            "type": "scatter3d"
           }
          ],
          "scattercarpet": [
           {
            "marker": {
             "colorbar": {
              "outlinewidth": 0,
              "ticks": ""
             }
            },
            "type": "scattercarpet"
           }
          ],
          "scattergeo": [
           {
            "marker": {
             "colorbar": {
              "outlinewidth": 0,
              "ticks": ""
             }
            },
            "type": "scattergeo"
           }
          ],
          "scattergl": [
           {
            "marker": {
             "colorbar": {
              "outlinewidth": 0,
              "ticks": ""
             }
            },
            "type": "scattergl"
           }
          ],
          "scattermapbox": [
           {
            "marker": {
             "colorbar": {
              "outlinewidth": 0,
              "ticks": ""
             }
            },
            "type": "scattermapbox"
           }
          ],
          "scatterpolar": [
           {
            "marker": {
             "colorbar": {
              "outlinewidth": 0,
              "ticks": ""
             }
            },
            "type": "scatterpolar"
           }
          ],
          "scatterpolargl": [
           {
            "marker": {
             "colorbar": {
              "outlinewidth": 0,
              "ticks": ""
             }
            },
            "type": "scatterpolargl"
           }
          ],
          "scatterternary": [
           {
            "marker": {
             "colorbar": {
              "outlinewidth": 0,
              "ticks": ""
             }
            },
            "type": "scatterternary"
           }
          ],
          "surface": [
           {
            "colorbar": {
             "outlinewidth": 0,
             "ticks": ""
            },
            "colorscale": [
             [
              0,
              "#0d0887"
             ],
             [
              0.1111111111111111,
              "#46039f"
             ],
             [
              0.2222222222222222,
              "#7201a8"
             ],
             [
              0.3333333333333333,
              "#9c179e"
             ],
             [
              0.4444444444444444,
              "#bd3786"
             ],
             [
              0.5555555555555556,
              "#d8576b"
             ],
             [
              0.6666666666666666,
              "#ed7953"
             ],
             [
              0.7777777777777778,
              "#fb9f3a"
             ],
             [
              0.8888888888888888,
              "#fdca26"
             ],
             [
              1,
              "#f0f921"
             ]
            ],
            "type": "surface"
           }
          ],
          "table": [
           {
            "cells": {
             "fill": {
              "color": "#EBF0F8"
             },
             "line": {
              "color": "white"
             }
            },
            "header": {
             "fill": {
              "color": "#C8D4E3"
             },
             "line": {
              "color": "white"
             }
            },
            "type": "table"
           }
          ]
         },
         "layout": {
          "annotationdefaults": {
           "arrowcolor": "#2a3f5f",
           "arrowhead": 0,
           "arrowwidth": 1
          },
          "autotypenumbers": "strict",
          "coloraxis": {
           "colorbar": {
            "outlinewidth": 0,
            "ticks": ""
           }
          },
          "colorscale": {
           "diverging": [
            [
             0,
             "#8e0152"
            ],
            [
             0.1,
             "#c51b7d"
            ],
            [
             0.2,
             "#de77ae"
            ],
            [
             0.3,
             "#f1b6da"
            ],
            [
             0.4,
             "#fde0ef"
            ],
            [
             0.5,
             "#f7f7f7"
            ],
            [
             0.6,
             "#e6f5d0"
            ],
            [
             0.7,
             "#b8e186"
            ],
            [
             0.8,
             "#7fbc41"
            ],
            [
             0.9,
             "#4d9221"
            ],
            [
             1,
             "#276419"
            ]
           ],
           "sequential": [
            [
             0,
             "#0d0887"
            ],
            [
             0.1111111111111111,
             "#46039f"
            ],
            [
             0.2222222222222222,
             "#7201a8"
            ],
            [
             0.3333333333333333,
             "#9c179e"
            ],
            [
             0.4444444444444444,
             "#bd3786"
            ],
            [
             0.5555555555555556,
             "#d8576b"
            ],
            [
             0.6666666666666666,
             "#ed7953"
            ],
            [
             0.7777777777777778,
             "#fb9f3a"
            ],
            [
             0.8888888888888888,
             "#fdca26"
            ],
            [
             1,
             "#f0f921"
            ]
           ],
           "sequentialminus": [
            [
             0,
             "#0d0887"
            ],
            [
             0.1111111111111111,
             "#46039f"
            ],
            [
             0.2222222222222222,
             "#7201a8"
            ],
            [
             0.3333333333333333,
             "#9c179e"
            ],
            [
             0.4444444444444444,
             "#bd3786"
            ],
            [
             0.5555555555555556,
             "#d8576b"
            ],
            [
             0.6666666666666666,
             "#ed7953"
            ],
            [
             0.7777777777777778,
             "#fb9f3a"
            ],
            [
             0.8888888888888888,
             "#fdca26"
            ],
            [
             1,
             "#f0f921"
            ]
           ]
          },
          "colorway": [
           "#636efa",
           "#EF553B",
           "#00cc96",
           "#ab63fa",
           "#FFA15A",
           "#19d3f3",
           "#FF6692",
           "#B6E880",
           "#FF97FF",
           "#FECB52"
          ],
          "font": {
           "color": "#2a3f5f"
          },
          "geo": {
           "bgcolor": "white",
           "lakecolor": "white",
           "landcolor": "#E5ECF6",
           "showlakes": true,
           "showland": true,
           "subunitcolor": "white"
          },
          "hoverlabel": {
           "align": "left"
          },
          "hovermode": "closest",
          "mapbox": {
           "style": "light"
          },
          "paper_bgcolor": "white",
          "plot_bgcolor": "#E5ECF6",
          "polar": {
           "angularaxis": {
            "gridcolor": "white",
            "linecolor": "white",
            "ticks": ""
           },
           "bgcolor": "#E5ECF6",
           "radialaxis": {
            "gridcolor": "white",
            "linecolor": "white",
            "ticks": ""
           }
          },
          "scene": {
           "xaxis": {
            "backgroundcolor": "#E5ECF6",
            "gridcolor": "white",
            "gridwidth": 2,
            "linecolor": "white",
            "showbackground": true,
            "ticks": "",
            "zerolinecolor": "white"
           },
           "yaxis": {
            "backgroundcolor": "#E5ECF6",
            "gridcolor": "white",
            "gridwidth": 2,
            "linecolor": "white",
            "showbackground": true,
            "ticks": "",
            "zerolinecolor": "white"
           },
           "zaxis": {
            "backgroundcolor": "#E5ECF6",
            "gridcolor": "white",
            "gridwidth": 2,
            "linecolor": "white",
            "showbackground": true,
            "ticks": "",
            "zerolinecolor": "white"
           }
          },
          "shapedefaults": {
           "line": {
            "color": "#2a3f5f"
           }
          },
          "ternary": {
           "aaxis": {
            "gridcolor": "white",
            "linecolor": "white",
            "ticks": ""
           },
           "baxis": {
            "gridcolor": "white",
            "linecolor": "white",
            "ticks": ""
           },
           "bgcolor": "#E5ECF6",
           "caxis": {
            "gridcolor": "white",
            "linecolor": "white",
            "ticks": ""
           }
          },
          "title": {
           "x": 0.05
          },
          "xaxis": {
           "automargin": true,
           "gridcolor": "white",
           "linecolor": "white",
           "ticks": "",
           "title": {
            "standoff": 15
           },
           "zerolinecolor": "white",
           "zerolinewidth": 2
          },
          "yaxis": {
           "automargin": true,
           "gridcolor": "white",
           "linecolor": "white",
           "ticks": "",
           "title": {
            "standoff": 15
           },
           "zerolinecolor": "white",
           "zerolinewidth": 2
          }
         }
        },
        "title": {
         "text": "Distribution of JDs across degrees"
        },
        "xaxis": {
         "anchor": "y",
         "domain": [
          0,
          1
         ],
         "title": {
          "text": "# JDs"
         }
        },
        "yaxis": {
         "anchor": "x",
         "domain": [
          0,
          1
         ],
         "title": {
          "text": "Degree"
         }
        }
       }
      }
     },
     "metadata": {},
     "output_type": "display_data"
    }
   ],
   "source": [
    "fig = px.bar(df.Education.value_counts())\n",
    "fig.update_layout(xaxis_title=\"# JDs\", \n",
    "                yaxis_title=\"Degree\",\n",
    "                title=\"Distribution of JDs across degrees\"\n",
    "                )\n",
    "fig.show()"
   ]
  },
  {
   "cell_type": "code",
   "execution_count": 12,
   "metadata": {},
   "outputs": [
    {
     "data": {
      "application/vnd.plotly.v1+json": {
       "config": {
        "plotlyServerURL": "https://plot.ly"
       },
       "data": [
        {
         "alignmentgroup": "True",
         "hovertemplate": "variable=Occupation Name<br>index=%{x}<br>value=%{y}<extra></extra>",
         "legendgroup": "Occupation Name",
         "marker": {
          "color": "#636efa",
          "pattern": {
           "shape": ""
          }
         },
         "name": "Occupation Name",
         "offsetgroup": "Occupation Name",
         "orientation": "v",
         "showlegend": true,
         "textposition": "auto",
         "type": "bar",
         "x": [
          "Software Developers, Applications"
         ],
         "xaxis": "x",
         "y": [
          93859
         ],
         "yaxis": "y"
        }
       ],
       "layout": {
        "barmode": "relative",
        "legend": {
         "title": {
          "text": "variable"
         },
         "tracegroupgap": 0
        },
        "margin": {
         "t": 60
        },
        "template": {
         "data": {
          "bar": [
           {
            "error_x": {
             "color": "#2a3f5f"
            },
            "error_y": {
             "color": "#2a3f5f"
            },
            "marker": {
             "line": {
              "color": "#E5ECF6",
              "width": 0.5
             },
             "pattern": {
              "fillmode": "overlay",
              "size": 10,
              "solidity": 0.2
             }
            },
            "type": "bar"
           }
          ],
          "barpolar": [
           {
            "marker": {
             "line": {
              "color": "#E5ECF6",
              "width": 0.5
             },
             "pattern": {
              "fillmode": "overlay",
              "size": 10,
              "solidity": 0.2
             }
            },
            "type": "barpolar"
           }
          ],
          "carpet": [
           {
            "aaxis": {
             "endlinecolor": "#2a3f5f",
             "gridcolor": "white",
             "linecolor": "white",
             "minorgridcolor": "white",
             "startlinecolor": "#2a3f5f"
            },
            "baxis": {
             "endlinecolor": "#2a3f5f",
             "gridcolor": "white",
             "linecolor": "white",
             "minorgridcolor": "white",
             "startlinecolor": "#2a3f5f"
            },
            "type": "carpet"
           }
          ],
          "choropleth": [
           {
            "colorbar": {
             "outlinewidth": 0,
             "ticks": ""
            },
            "type": "choropleth"
           }
          ],
          "contour": [
           {
            "colorbar": {
             "outlinewidth": 0,
             "ticks": ""
            },
            "colorscale": [
             [
              0,
              "#0d0887"
             ],
             [
              0.1111111111111111,
              "#46039f"
             ],
             [
              0.2222222222222222,
              "#7201a8"
             ],
             [
              0.3333333333333333,
              "#9c179e"
             ],
             [
              0.4444444444444444,
              "#bd3786"
             ],
             [
              0.5555555555555556,
              "#d8576b"
             ],
             [
              0.6666666666666666,
              "#ed7953"
             ],
             [
              0.7777777777777778,
              "#fb9f3a"
             ],
             [
              0.8888888888888888,
              "#fdca26"
             ],
             [
              1,
              "#f0f921"
             ]
            ],
            "type": "contour"
           }
          ],
          "contourcarpet": [
           {
            "colorbar": {
             "outlinewidth": 0,
             "ticks": ""
            },
            "type": "contourcarpet"
           }
          ],
          "heatmap": [
           {
            "colorbar": {
             "outlinewidth": 0,
             "ticks": ""
            },
            "colorscale": [
             [
              0,
              "#0d0887"
             ],
             [
              0.1111111111111111,
              "#46039f"
             ],
             [
              0.2222222222222222,
              "#7201a8"
             ],
             [
              0.3333333333333333,
              "#9c179e"
             ],
             [
              0.4444444444444444,
              "#bd3786"
             ],
             [
              0.5555555555555556,
              "#d8576b"
             ],
             [
              0.6666666666666666,
              "#ed7953"
             ],
             [
              0.7777777777777778,
              "#fb9f3a"
             ],
             [
              0.8888888888888888,
              "#fdca26"
             ],
             [
              1,
              "#f0f921"
             ]
            ],
            "type": "heatmap"
           }
          ],
          "heatmapgl": [
           {
            "colorbar": {
             "outlinewidth": 0,
             "ticks": ""
            },
            "colorscale": [
             [
              0,
              "#0d0887"
             ],
             [
              0.1111111111111111,
              "#46039f"
             ],
             [
              0.2222222222222222,
              "#7201a8"
             ],
             [
              0.3333333333333333,
              "#9c179e"
             ],
             [
              0.4444444444444444,
              "#bd3786"
             ],
             [
              0.5555555555555556,
              "#d8576b"
             ],
             [
              0.6666666666666666,
              "#ed7953"
             ],
             [
              0.7777777777777778,
              "#fb9f3a"
             ],
             [
              0.8888888888888888,
              "#fdca26"
             ],
             [
              1,
              "#f0f921"
             ]
            ],
            "type": "heatmapgl"
           }
          ],
          "histogram": [
           {
            "marker": {
             "pattern": {
              "fillmode": "overlay",
              "size": 10,
              "solidity": 0.2
             }
            },
            "type": "histogram"
           }
          ],
          "histogram2d": [
           {
            "colorbar": {
             "outlinewidth": 0,
             "ticks": ""
            },
            "colorscale": [
             [
              0,
              "#0d0887"
             ],
             [
              0.1111111111111111,
              "#46039f"
             ],
             [
              0.2222222222222222,
              "#7201a8"
             ],
             [
              0.3333333333333333,
              "#9c179e"
             ],
             [
              0.4444444444444444,
              "#bd3786"
             ],
             [
              0.5555555555555556,
              "#d8576b"
             ],
             [
              0.6666666666666666,
              "#ed7953"
             ],
             [
              0.7777777777777778,
              "#fb9f3a"
             ],
             [
              0.8888888888888888,
              "#fdca26"
             ],
             [
              1,
              "#f0f921"
             ]
            ],
            "type": "histogram2d"
           }
          ],
          "histogram2dcontour": [
           {
            "colorbar": {
             "outlinewidth": 0,
             "ticks": ""
            },
            "colorscale": [
             [
              0,
              "#0d0887"
             ],
             [
              0.1111111111111111,
              "#46039f"
             ],
             [
              0.2222222222222222,
              "#7201a8"
             ],
             [
              0.3333333333333333,
              "#9c179e"
             ],
             [
              0.4444444444444444,
              "#bd3786"
             ],
             [
              0.5555555555555556,
              "#d8576b"
             ],
             [
              0.6666666666666666,
              "#ed7953"
             ],
             [
              0.7777777777777778,
              "#fb9f3a"
             ],
             [
              0.8888888888888888,
              "#fdca26"
             ],
             [
              1,
              "#f0f921"
             ]
            ],
            "type": "histogram2dcontour"
           }
          ],
          "mesh3d": [
           {
            "colorbar": {
             "outlinewidth": 0,
             "ticks": ""
            },
            "type": "mesh3d"
           }
          ],
          "parcoords": [
           {
            "line": {
             "colorbar": {
              "outlinewidth": 0,
              "ticks": ""
             }
            },
            "type": "parcoords"
           }
          ],
          "pie": [
           {
            "automargin": true,
            "type": "pie"
           }
          ],
          "scatter": [
           {
            "fillpattern": {
             "fillmode": "overlay",
             "size": 10,
             "solidity": 0.2
            },
            "type": "scatter"
           }
          ],
          "scatter3d": [
           {
            "line": {
             "colorbar": {
              "outlinewidth": 0,
              "ticks": ""
             }
            },
            "marker": {
             "colorbar": {
              "outlinewidth": 0,
              "ticks": ""
             }
            },
            "type": "scatter3d"
           }
          ],
          "scattercarpet": [
           {
            "marker": {
             "colorbar": {
              "outlinewidth": 0,
              "ticks": ""
             }
            },
            "type": "scattercarpet"
           }
          ],
          "scattergeo": [
           {
            "marker": {
             "colorbar": {
              "outlinewidth": 0,
              "ticks": ""
             }
            },
            "type": "scattergeo"
           }
          ],
          "scattergl": [
           {
            "marker": {
             "colorbar": {
              "outlinewidth": 0,
              "ticks": ""
             }
            },
            "type": "scattergl"
           }
          ],
          "scattermapbox": [
           {
            "marker": {
             "colorbar": {
              "outlinewidth": 0,
              "ticks": ""
             }
            },
            "type": "scattermapbox"
           }
          ],
          "scatterpolar": [
           {
            "marker": {
             "colorbar": {
              "outlinewidth": 0,
              "ticks": ""
             }
            },
            "type": "scatterpolar"
           }
          ],
          "scatterpolargl": [
           {
            "marker": {
             "colorbar": {
              "outlinewidth": 0,
              "ticks": ""
             }
            },
            "type": "scatterpolargl"
           }
          ],
          "scatterternary": [
           {
            "marker": {
             "colorbar": {
              "outlinewidth": 0,
              "ticks": ""
             }
            },
            "type": "scatterternary"
           }
          ],
          "surface": [
           {
            "colorbar": {
             "outlinewidth": 0,
             "ticks": ""
            },
            "colorscale": [
             [
              0,
              "#0d0887"
             ],
             [
              0.1111111111111111,
              "#46039f"
             ],
             [
              0.2222222222222222,
              "#7201a8"
             ],
             [
              0.3333333333333333,
              "#9c179e"
             ],
             [
              0.4444444444444444,
              "#bd3786"
             ],
             [
              0.5555555555555556,
              "#d8576b"
             ],
             [
              0.6666666666666666,
              "#ed7953"
             ],
             [
              0.7777777777777778,
              "#fb9f3a"
             ],
             [
              0.8888888888888888,
              "#fdca26"
             ],
             [
              1,
              "#f0f921"
             ]
            ],
            "type": "surface"
           }
          ],
          "table": [
           {
            "cells": {
             "fill": {
              "color": "#EBF0F8"
             },
             "line": {
              "color": "white"
             }
            },
            "header": {
             "fill": {
              "color": "#C8D4E3"
             },
             "line": {
              "color": "white"
             }
            },
            "type": "table"
           }
          ]
         },
         "layout": {
          "annotationdefaults": {
           "arrowcolor": "#2a3f5f",
           "arrowhead": 0,
           "arrowwidth": 1
          },
          "autotypenumbers": "strict",
          "coloraxis": {
           "colorbar": {
            "outlinewidth": 0,
            "ticks": ""
           }
          },
          "colorscale": {
           "diverging": [
            [
             0,
             "#8e0152"
            ],
            [
             0.1,
             "#c51b7d"
            ],
            [
             0.2,
             "#de77ae"
            ],
            [
             0.3,
             "#f1b6da"
            ],
            [
             0.4,
             "#fde0ef"
            ],
            [
             0.5,
             "#f7f7f7"
            ],
            [
             0.6,
             "#e6f5d0"
            ],
            [
             0.7,
             "#b8e186"
            ],
            [
             0.8,
             "#7fbc41"
            ],
            [
             0.9,
             "#4d9221"
            ],
            [
             1,
             "#276419"
            ]
           ],
           "sequential": [
            [
             0,
             "#0d0887"
            ],
            [
             0.1111111111111111,
             "#46039f"
            ],
            [
             0.2222222222222222,
             "#7201a8"
            ],
            [
             0.3333333333333333,
             "#9c179e"
            ],
            [
             0.4444444444444444,
             "#bd3786"
            ],
            [
             0.5555555555555556,
             "#d8576b"
            ],
            [
             0.6666666666666666,
             "#ed7953"
            ],
            [
             0.7777777777777778,
             "#fb9f3a"
            ],
            [
             0.8888888888888888,
             "#fdca26"
            ],
            [
             1,
             "#f0f921"
            ]
           ],
           "sequentialminus": [
            [
             0,
             "#0d0887"
            ],
            [
             0.1111111111111111,
             "#46039f"
            ],
            [
             0.2222222222222222,
             "#7201a8"
            ],
            [
             0.3333333333333333,
             "#9c179e"
            ],
            [
             0.4444444444444444,
             "#bd3786"
            ],
            [
             0.5555555555555556,
             "#d8576b"
            ],
            [
             0.6666666666666666,
             "#ed7953"
            ],
            [
             0.7777777777777778,
             "#fb9f3a"
            ],
            [
             0.8888888888888888,
             "#fdca26"
            ],
            [
             1,
             "#f0f921"
            ]
           ]
          },
          "colorway": [
           "#636efa",
           "#EF553B",
           "#00cc96",
           "#ab63fa",
           "#FFA15A",
           "#19d3f3",
           "#FF6692",
           "#B6E880",
           "#FF97FF",
           "#FECB52"
          ],
          "font": {
           "color": "#2a3f5f"
          },
          "geo": {
           "bgcolor": "white",
           "lakecolor": "white",
           "landcolor": "#E5ECF6",
           "showlakes": true,
           "showland": true,
           "subunitcolor": "white"
          },
          "hoverlabel": {
           "align": "left"
          },
          "hovermode": "closest",
          "mapbox": {
           "style": "light"
          },
          "paper_bgcolor": "white",
          "plot_bgcolor": "#E5ECF6",
          "polar": {
           "angularaxis": {
            "gridcolor": "white",
            "linecolor": "white",
            "ticks": ""
           },
           "bgcolor": "#E5ECF6",
           "radialaxis": {
            "gridcolor": "white",
            "linecolor": "white",
            "ticks": ""
           }
          },
          "scene": {
           "xaxis": {
            "backgroundcolor": "#E5ECF6",
            "gridcolor": "white",
            "gridwidth": 2,
            "linecolor": "white",
            "showbackground": true,
            "ticks": "",
            "zerolinecolor": "white"
           },
           "yaxis": {
            "backgroundcolor": "#E5ECF6",
            "gridcolor": "white",
            "gridwidth": 2,
            "linecolor": "white",
            "showbackground": true,
            "ticks": "",
            "zerolinecolor": "white"
           },
           "zaxis": {
            "backgroundcolor": "#E5ECF6",
            "gridcolor": "white",
            "gridwidth": 2,
            "linecolor": "white",
            "showbackground": true,
            "ticks": "",
            "zerolinecolor": "white"
           }
          },
          "shapedefaults": {
           "line": {
            "color": "#2a3f5f"
           }
          },
          "ternary": {
           "aaxis": {
            "gridcolor": "white",
            "linecolor": "white",
            "ticks": ""
           },
           "baxis": {
            "gridcolor": "white",
            "linecolor": "white",
            "ticks": ""
           },
           "bgcolor": "#E5ECF6",
           "caxis": {
            "gridcolor": "white",
            "linecolor": "white",
            "ticks": ""
           }
          },
          "title": {
           "x": 0.05
          },
          "xaxis": {
           "automargin": true,
           "gridcolor": "white",
           "linecolor": "white",
           "ticks": "",
           "title": {
            "standoff": 15
           },
           "zerolinecolor": "white",
           "zerolinewidth": 2
          },
          "yaxis": {
           "automargin": true,
           "gridcolor": "white",
           "linecolor": "white",
           "ticks": "",
           "title": {
            "standoff": 15
           },
           "zerolinecolor": "white",
           "zerolinewidth": 2
          }
         }
        },
        "title": {
         "text": "Distribution of JDs across degrees"
        },
        "xaxis": {
         "anchor": "y",
         "domain": [
          0,
          1
         ],
         "title": {
          "text": "# JDs"
         }
        },
        "yaxis": {
         "anchor": "x",
         "domain": [
          0,
          1
         ],
         "title": {
          "text": "Degree"
         }
        }
       }
      }
     },
     "metadata": {},
     "output_type": "display_data"
    }
   ],
   "source": [
    "fig = px.bar(df[\"Occupation Name\"].value_counts())\n",
    "fig.update_layout(xaxis_title=\"# JDs\", \n",
    "                yaxis_title=\"Degree\",\n",
    "                title=\"Distribution of JDs across degrees\"\n",
    "                )\n",
    "fig.show()"
   ]
  },
  {
   "cell_type": "code",
   "execution_count": 15,
   "metadata": {},
   "outputs": [
    {
     "data": {
      "text/html": [
       "<div>\n",
       "<style scoped>\n",
       "    .dataframe tbody tr th:only-of-type {\n",
       "        vertical-align: middle;\n",
       "    }\n",
       "\n",
       "    .dataframe tbody tr th {\n",
       "        vertical-align: top;\n",
       "    }\n",
       "\n",
       "    .dataframe thead th {\n",
       "        text-align: right;\n",
       "    }\n",
       "</style>\n",
       "<table border=\"1\" class=\"dataframe\">\n",
       "  <thead>\n",
       "    <tr style=\"text-align: right;\">\n",
       "      <th></th>\n",
       "      <th>Job ID</th>\n",
       "      <th>Employer</th>\n",
       "      <th>First Seen Date</th>\n",
       "      <th>Title</th>\n",
       "      <th>Occupation Name</th>\n",
       "      <th>City</th>\n",
       "      <th>State</th>\n",
       "      <th>Job_Type</th>\n",
       "      <th>Education</th>\n",
       "      <th>Description</th>\n",
       "    </tr>\n",
       "  </thead>\n",
       "  <tbody>\n",
       "    <tr>\n",
       "      <th>0</th>\n",
       "      <td>1</td>\n",
       "      <td>ACCENTURE</td>\n",
       "      <td>2023-08-03</td>\n",
       "      <td>Application Developer</td>\n",
       "      <td>Software Developers, Applications</td>\n",
       "      <td>Multiple locations</td>\n",
       "      <td>NaN</td>\n",
       "      <td>Full-Time,Permanent</td>\n",
       "      <td>Bachelor's Degree</td>\n",
       "      <td>Experience:</td>\n",
       "    </tr>\n",
       "    <tr>\n",
       "      <th>1</th>\n",
       "      <td>2</td>\n",
       "      <td>ACCENTURE</td>\n",
       "      <td>2023-07-28</td>\n",
       "      <td>SnapLogic Application Lead</td>\n",
       "      <td>Software Developers, Applications</td>\n",
       "      <td>Pune</td>\n",
       "      <td>Mahārāshtra</td>\n",
       "      <td>Full-Time,Permanent</td>\n",
       "      <td>Bachelor's Degree</td>\n",
       "      <td>Job Description About Accenture: Accenture is ...</td>\n",
       "    </tr>\n",
       "  </tbody>\n",
       "</table>\n",
       "</div>"
      ],
      "text/plain": [
       "   Job ID   Employer First Seen Date                       Title  \\\n",
       "0       1  ACCENTURE      2023-08-03       Application Developer   \n",
       "1       2  ACCENTURE      2023-07-28  SnapLogic Application Lead   \n",
       "\n",
       "                     Occupation Name                City        State  \\\n",
       "0  Software Developers, Applications  Multiple locations          NaN   \n",
       "1  Software Developers, Applications                Pune  Mahārāshtra   \n",
       "\n",
       "              Job_Type          Education  \\\n",
       "0  Full-Time,Permanent  Bachelor's Degree   \n",
       "1  Full-Time,Permanent  Bachelor's Degree   \n",
       "\n",
       "                                         Description  \n",
       "0                                        Experience:  \n",
       "1  Job Description About Accenture: Accenture is ...  "
      ]
     },
     "execution_count": 15,
     "metadata": {},
     "output_type": "execute_result"
    }
   ],
   "source": [
    "df.head(2)"
   ]
  },
  {
   "cell_type": "code",
   "execution_count": 31,
   "metadata": {},
   "outputs": [
    {
     "name": "stdout",
     "output_type": "stream",
     "text": [
      "(77702, 11)\n"
     ]
    },
    {
     "data": {
      "text/html": [
       "<div>\n",
       "<style scoped>\n",
       "    .dataframe tbody tr th:only-of-type {\n",
       "        vertical-align: middle;\n",
       "    }\n",
       "\n",
       "    .dataframe tbody tr th {\n",
       "        vertical-align: top;\n",
       "    }\n",
       "\n",
       "    .dataframe thead th {\n",
       "        text-align: right;\n",
       "    }\n",
       "</style>\n",
       "<table border=\"1\" class=\"dataframe\">\n",
       "  <thead>\n",
       "    <tr style=\"text-align: right;\">\n",
       "      <th></th>\n",
       "      <th>Job ID</th>\n",
       "      <th>Employer</th>\n",
       "      <th>First Seen Date</th>\n",
       "      <th>Title</th>\n",
       "      <th>Occupation Name</th>\n",
       "      <th>City</th>\n",
       "      <th>State</th>\n",
       "      <th>Job_Type</th>\n",
       "      <th>Education</th>\n",
       "      <th>Description</th>\n",
       "      <th>approx_tokens</th>\n",
       "    </tr>\n",
       "  </thead>\n",
       "  <tbody>\n",
       "    <tr>\n",
       "      <th>0</th>\n",
       "      <td>1</td>\n",
       "      <td>ACCENTURE</td>\n",
       "      <td>2023-08-03</td>\n",
       "      <td>Application Developer</td>\n",
       "      <td>Software Developers, Applications</td>\n",
       "      <td>Multiple locations</td>\n",
       "      <td>NaN</td>\n",
       "      <td>Full-Time,Permanent</td>\n",
       "      <td>Bachelor's Degree</td>\n",
       "      <td>Experience:</td>\n",
       "      <td>3</td>\n",
       "    </tr>\n",
       "    <tr>\n",
       "      <th>1</th>\n",
       "      <td>2</td>\n",
       "      <td>ACCENTURE</td>\n",
       "      <td>2023-07-28</td>\n",
       "      <td>SnapLogic Application Lead</td>\n",
       "      <td>Software Developers, Applications</td>\n",
       "      <td>Pune</td>\n",
       "      <td>Mahārāshtra</td>\n",
       "      <td>Full-Time,Permanent</td>\n",
       "      <td>Bachelor's Degree</td>\n",
       "      <td>Job Description About Accenture: Accenture is ...</td>\n",
       "      <td>480</td>\n",
       "    </tr>\n",
       "    <tr>\n",
       "      <th>2</th>\n",
       "      <td>3</td>\n",
       "      <td>ACCENTURE</td>\n",
       "      <td>2023-07-28</td>\n",
       "      <td>Machine Learning Application Architect</td>\n",
       "      <td>Software Developers, Applications</td>\n",
       "      <td>Bangalore</td>\n",
       "      <td>Karnātaka</td>\n",
       "      <td>Full-Time,Permanent</td>\n",
       "      <td>Bachelor's Degree</td>\n",
       "      <td>Job Description About Accenture: Accenture is ...</td>\n",
       "      <td>657</td>\n",
       "    </tr>\n",
       "    <tr>\n",
       "      <th>3</th>\n",
       "      <td>4</td>\n",
       "      <td>ACCENTURE</td>\n",
       "      <td>2023-07-28</td>\n",
       "      <td>Oracle Procedural Language Extensions to SQL (...</td>\n",
       "      <td>Software Developers, Applications</td>\n",
       "      <td>Chennai</td>\n",
       "      <td>Tamil Nādu</td>\n",
       "      <td>Full-Time,Permanent</td>\n",
       "      <td>Bachelor's Degree</td>\n",
       "      <td>Job Description About Accenture: Accenture is ...</td>\n",
       "      <td>471</td>\n",
       "    </tr>\n",
       "    <tr>\n",
       "      <th>4</th>\n",
       "      <td>5</td>\n",
       "      <td>ACCENTURE</td>\n",
       "      <td>2023-07-29</td>\n",
       "      <td>ESRI ArcGIS Application Developer</td>\n",
       "      <td>Software Developers, Applications</td>\n",
       "      <td>Pune</td>\n",
       "      <td>Mahārāshtra</td>\n",
       "      <td>Full-Time,Permanent</td>\n",
       "      <td>Bachelor's Degree</td>\n",
       "      <td>Job Description About Accenture: Accenture is ...</td>\n",
       "      <td>543</td>\n",
       "    </tr>\n",
       "  </tbody>\n",
       "</table>\n",
       "</div>"
      ],
      "text/plain": [
       "   Job ID   Employer First Seen Date  \\\n",
       "0       1  ACCENTURE      2023-08-03   \n",
       "1       2  ACCENTURE      2023-07-28   \n",
       "2       3  ACCENTURE      2023-07-28   \n",
       "3       4  ACCENTURE      2023-07-28   \n",
       "4       5  ACCENTURE      2023-07-29   \n",
       "\n",
       "                                               Title  \\\n",
       "0                              Application Developer   \n",
       "1                         SnapLogic Application Lead   \n",
       "2             Machine Learning Application Architect   \n",
       "3  Oracle Procedural Language Extensions to SQL (...   \n",
       "4                  ESRI ArcGIS Application Developer   \n",
       "\n",
       "                     Occupation Name                City        State  \\\n",
       "0  Software Developers, Applications  Multiple locations          NaN   \n",
       "1  Software Developers, Applications                Pune  Mahārāshtra   \n",
       "2  Software Developers, Applications           Bangalore    Karnātaka   \n",
       "3  Software Developers, Applications             Chennai   Tamil Nādu   \n",
       "4  Software Developers, Applications                Pune  Mahārāshtra   \n",
       "\n",
       "              Job_Type          Education  \\\n",
       "0  Full-Time,Permanent  Bachelor's Degree   \n",
       "1  Full-Time,Permanent  Bachelor's Degree   \n",
       "2  Full-Time,Permanent  Bachelor's Degree   \n",
       "3  Full-Time,Permanent  Bachelor's Degree   \n",
       "4  Full-Time,Permanent  Bachelor's Degree   \n",
       "\n",
       "                                         Description  approx_tokens  \n",
       "0                                        Experience:              3  \n",
       "1  Job Description About Accenture: Accenture is ...            480  \n",
       "2  Job Description About Accenture: Accenture is ...            657  \n",
       "3  Job Description About Accenture: Accenture is ...            471  \n",
       "4  Job Description About Accenture: Accenture is ...            543  "
      ]
     },
     "execution_count": 31,
     "metadata": {},
     "output_type": "execute_result"
    }
   ],
   "source": [
    "df[\"approx_tokens\"] = df.Description.apply(lambda text: round(len(text)/4))\n",
    "df_fil = df[(df.approx_tokens >= 100) & (df.approx_tokens <= 1500)].reset_index(drop=True)\n",
    "print(df_fil.shape)\n",
    "df.head()"
   ]
  },
  {
   "cell_type": "markdown",
   "metadata": {},
   "source": [
    "### Create Sample Data"
   ]
  },
  {
   "cell_type": "code",
   "execution_count": 36,
   "metadata": {},
   "outputs": [
    {
     "name": "stdout",
     "output_type": "stream",
     "text": [
      "(1200, 11)\n"
     ]
    },
    {
     "data": {
      "text/html": [
       "<div>\n",
       "<style scoped>\n",
       "    .dataframe tbody tr th:only-of-type {\n",
       "        vertical-align: middle;\n",
       "    }\n",
       "\n",
       "    .dataframe tbody tr th {\n",
       "        vertical-align: top;\n",
       "    }\n",
       "\n",
       "    .dataframe thead th {\n",
       "        text-align: right;\n",
       "    }\n",
       "</style>\n",
       "<table border=\"1\" class=\"dataframe\">\n",
       "  <thead>\n",
       "    <tr style=\"text-align: right;\">\n",
       "      <th></th>\n",
       "      <th>Job ID</th>\n",
       "      <th>Employer</th>\n",
       "      <th>First Seen Date</th>\n",
       "      <th>Title</th>\n",
       "      <th>Occupation Name</th>\n",
       "      <th>City</th>\n",
       "      <th>State</th>\n",
       "      <th>Job_Type</th>\n",
       "      <th>Education</th>\n",
       "      <th>Description</th>\n",
       "      <th>approx_tokens</th>\n",
       "    </tr>\n",
       "  </thead>\n",
       "  <tbody>\n",
       "    <tr>\n",
       "      <th>0</th>\n",
       "      <td>43989</td>\n",
       "      <td>Infosys Technologies</td>\n",
       "      <td>2022-10-12</td>\n",
       "      <td>BigData Hadoop Production Support Lead</td>\n",
       "      <td>Software Developers, Applications</td>\n",
       "      <td>Richardson</td>\n",
       "      <td>Texas</td>\n",
       "      <td>Full-Time,Permanent</td>\n",
       "      <td>Bachelor's Degree</td>\n",
       "      <td>1889319 No 5439 2037 1 10/12/2022 BigData Hado...</td>\n",
       "      <td>954</td>\n",
       "    </tr>\n",
       "    <tr>\n",
       "      <th>1</th>\n",
       "      <td>61859</td>\n",
       "      <td>META</td>\n",
       "      <td>2023-05-27</td>\n",
       "      <td>Software Engineer, front end</td>\n",
       "      <td>Software Developers, Applications</td>\n",
       "      <td>Multiple locations</td>\n",
       "      <td>NaN</td>\n",
       "      <td>Full-Time,Permanent</td>\n",
       "      <td>Bachelor's Degree</td>\n",
       "      <td>We are the teams who create all of Meta's prod...</td>\n",
       "      <td>773</td>\n",
       "    </tr>\n",
       "    <tr>\n",
       "      <th>2</th>\n",
       "      <td>57114</td>\n",
       "      <td>Leidos</td>\n",
       "      <td>2023-01-20</td>\n",
       "      <td>Senior UI/UX Software Engineer</td>\n",
       "      <td>Software Developers, Applications</td>\n",
       "      <td>Herndon</td>\n",
       "      <td>Virginia</td>\n",
       "      <td>Full-Time,Permanent</td>\n",
       "      <td>Bachelor's Degree</td>\n",
       "      <td>Description Job Description: Job Description L...</td>\n",
       "      <td>872</td>\n",
       "    </tr>\n",
       "    <tr>\n",
       "      <th>3</th>\n",
       "      <td>2701</td>\n",
       "      <td>ACCENTURE</td>\n",
       "      <td>2023-02-20</td>\n",
       "      <td>Recruit for thr post of Spring Boot Applicatio...</td>\n",
       "      <td>Software Developers, Applications</td>\n",
       "      <td>Indore</td>\n",
       "      <td>Madhya Pradesh</td>\n",
       "      <td>Full-Time,Permanent</td>\n",
       "      <td>Bachelor's Degree</td>\n",
       "      <td>About Accenture: Accenture is a global profess...</td>\n",
       "      <td>417</td>\n",
       "    </tr>\n",
       "    <tr>\n",
       "      <th>4</th>\n",
       "      <td>10993</td>\n",
       "      <td>American Express</td>\n",
       "      <td>2022-05-03</td>\n",
       "      <td>Principal UX Designer - Identity &amp; Access Mana...</td>\n",
       "      <td>Software Developers, Applications</td>\n",
       "      <td>Springfield</td>\n",
       "      <td>Illinois</td>\n",
       "      <td>Full-Time,Permanent</td>\n",
       "      <td>Bachelor's Degree</td>\n",
       "      <td>Description You Lead the Way. We’ve Got Your B...</td>\n",
       "      <td>1405</td>\n",
       "    </tr>\n",
       "  </tbody>\n",
       "</table>\n",
       "</div>"
      ],
      "text/plain": [
       "   Job ID              Employer First Seen Date  \\\n",
       "0   43989  Infosys Technologies      2022-10-12   \n",
       "1   61859                  META      2023-05-27   \n",
       "2   57114                Leidos      2023-01-20   \n",
       "3    2701             ACCENTURE      2023-02-20   \n",
       "4   10993      American Express      2022-05-03   \n",
       "\n",
       "                                               Title  \\\n",
       "0             BigData Hadoop Production Support Lead   \n",
       "1                       Software Engineer, front end   \n",
       "2                     Senior UI/UX Software Engineer   \n",
       "3  Recruit for thr post of Spring Boot Applicatio...   \n",
       "4  Principal UX Designer - Identity & Access Mana...   \n",
       "\n",
       "                     Occupation Name                City           State  \\\n",
       "0  Software Developers, Applications          Richardson           Texas   \n",
       "1  Software Developers, Applications  Multiple locations             NaN   \n",
       "2  Software Developers, Applications             Herndon        Virginia   \n",
       "3  Software Developers, Applications              Indore  Madhya Pradesh   \n",
       "4  Software Developers, Applications         Springfield        Illinois   \n",
       "\n",
       "              Job_Type          Education  \\\n",
       "0  Full-Time,Permanent  Bachelor's Degree   \n",
       "1  Full-Time,Permanent  Bachelor's Degree   \n",
       "2  Full-Time,Permanent  Bachelor's Degree   \n",
       "3  Full-Time,Permanent  Bachelor's Degree   \n",
       "4  Full-Time,Permanent  Bachelor's Degree   \n",
       "\n",
       "                                         Description  approx_tokens  \n",
       "0  1889319 No 5439 2037 1 10/12/2022 BigData Hado...            954  \n",
       "1  We are the teams who create all of Meta's prod...            773  \n",
       "2  Description Job Description: Job Description L...            872  \n",
       "3  About Accenture: Accenture is a global profess...            417  \n",
       "4  Description You Lead the Way. We’ve Got Your B...           1405  "
      ]
     },
     "execution_count": 36,
     "metadata": {},
     "output_type": "execute_result"
    }
   ],
   "source": [
    "df_sample = df_fil.sample(1200, random_state=100).reset_index(drop=True)\n",
    "print(df_sample.shape)\n",
    "df_sample.head()"
   ]
  },
  {
   "cell_type": "code",
   "execution_count": 50,
   "metadata": {},
   "outputs": [
    {
     "name": "stdout",
     "output_type": "stream",
     "text": [
      "Companies we are covering in analysis\n",
      "\t1. Infosys Technologies\n",
      "\t2. META\n",
      "\t3. Leidos\n",
      "\t4. ACCENTURE\n",
      "\t5. American Express\n",
      "\t6. Nvidia Corporation\n",
      "\t7. Shell\n",
      "\t8. Apple\n",
      "\t9. Qualcomm\n",
      "\t10. State Street Corporation\n",
      "\t11. Intel\n",
      "\t12. Amazon\n",
      "\t13. Bank Of America\n",
      "\t14. Lockheed Martin\n",
      "\t15. Cognizant Technology Solutions\n",
      "\t16. JPMorgan Chase & Co.\n",
      "\t17. Google\n",
      "\t18. Capital One\n",
      "\t19. Siemens\n",
      "\t20. Wells Fargo\n",
      "\t21. Flipkart\n",
      "\t22. SAP\n",
      "\t23. Ernst & Young\n",
      "\t24. IBM\n",
      "\t25. GOLDMAN SACHS\n",
      "\t26. Oracle\n",
      "\t27. DELL\n",
      "\t28. Paytm\n",
      "\t29. S&P Global Inc.\n",
      "\t30. Tata Consultancy Services\n",
      "\t31. Walmart\n",
      "\t32. The Boeing Company\n",
      "\t33. Morgan Stanley\n",
      "\t34. Unitedhealth Group\n",
      "\t35. CITI\n",
      "\t36. Tata Group\n",
      "\t37. KPMG\n",
      "\t38. NTT DATA\n",
      "\t39. Lyft\n",
      "\t40. Tesla Motors\n",
      "\t41. Target Corporation\n",
      "\t42. Microsoft\n",
      "\t43. Robinhood\n",
      "\t44. Fidelity Investments\n"
     ]
    }
   ],
   "source": [
    "print(\"Companies we are covering in analysis\")\n",
    "for i, comp in enumerate(df_sample.Employer.unique()):\n",
    "    print(f\"\\t{i+1}. {comp}\")"
   ]
  },
  {
   "cell_type": "code",
   "execution_count": 46,
   "metadata": {},
   "outputs": [
    {
     "name": "stdout",
     "output_type": "stream",
     "text": [
      "(1020, 11)\n",
      "(180, 11)\n"
     ]
    }
   ],
   "source": [
    "train, test = train_test_split(df_sample, test_size=.15, random_state=100)\n",
    "print(train.shape)\n",
    "print(test.shape)"
   ]
  },
  {
   "cell_type": "code",
   "execution_count": 48,
   "metadata": {},
   "outputs": [],
   "source": [
    "train.to_csv(\"data/job_description_train.csv\", index=False)\n",
    "test.to_csv(\"data/job_description_test.csv\", index=False)"
   ]
  },
  {
   "cell_type": "code",
   "execution_count": 60,
   "metadata": {},
   "outputs": [
    {
     "data": {
      "text/html": [
       "<div>\n",
       "<style scoped>\n",
       "    .dataframe tbody tr th:only-of-type {\n",
       "        vertical-align: middle;\n",
       "    }\n",
       "\n",
       "    .dataframe tbody tr th {\n",
       "        vertical-align: top;\n",
       "    }\n",
       "\n",
       "    .dataframe thead th {\n",
       "        text-align: right;\n",
       "    }\n",
       "</style>\n",
       "<table border=\"1\" class=\"dataframe\">\n",
       "  <thead>\n",
       "    <tr style=\"text-align: right;\">\n",
       "      <th></th>\n",
       "      <th>Job ID</th>\n",
       "      <th>Employer</th>\n",
       "      <th>First Seen Date</th>\n",
       "      <th>Title</th>\n",
       "      <th>Occupation Name</th>\n",
       "      <th>City</th>\n",
       "      <th>State</th>\n",
       "      <th>Job_Type</th>\n",
       "      <th>Education</th>\n",
       "      <th>Description</th>\n",
       "      <th>approx_tokens</th>\n",
       "    </tr>\n",
       "  </thead>\n",
       "  <tbody>\n",
       "    <tr>\n",
       "      <th>356</th>\n",
       "      <td>66525</td>\n",
       "      <td>Nvidia Corporation</td>\n",
       "      <td>2023-07-17</td>\n",
       "      <td>Principal Distributed Systems Engineer, AI inf...</td>\n",
       "      <td>Software Developers, Applications</td>\n",
       "      <td>Multiple locations</td>\n",
       "      <td>NaN</td>\n",
       "      <td>Full-Time,Permanent</td>\n",
       "      <td>Master's Degree</td>\n",
       "      <td>We are now looking for a Principal Distributed...</td>\n",
       "      <td>1052</td>\n",
       "    </tr>\n",
       "    <tr>\n",
       "      <th>753</th>\n",
       "      <td>79209</td>\n",
       "      <td>Target Corporation</td>\n",
       "      <td>2023-06-30</td>\n",
       "      <td>Senior Engineer</td>\n",
       "      <td>Software Developers, Applications</td>\n",
       "      <td>Minneapolis</td>\n",
       "      <td>Minnesota</td>\n",
       "      <td>Full-Time,Permanent</td>\n",
       "      <td>Bachelor's Degree</td>\n",
       "      <td>The pay range is: $130,998.00 - $150,800.00 In...</td>\n",
       "      <td>774</td>\n",
       "    </tr>\n",
       "    <tr>\n",
       "      <th>587</th>\n",
       "      <td>45318</td>\n",
       "      <td>Intel</td>\n",
       "      <td>2023-01-27</td>\n",
       "      <td>EDA Tools Software Engineer Intern</td>\n",
       "      <td>Software Developers, Applications</td>\n",
       "      <td>Nashville</td>\n",
       "      <td>Tennessee</td>\n",
       "      <td>Full-Time,Internship</td>\n",
       "      <td>Master's Degree</td>\n",
       "      <td>Intel Posted Under: Nashville, Tennessee jobs ...</td>\n",
       "      <td>1317</td>\n",
       "    </tr>\n",
       "    <tr>\n",
       "      <th>562</th>\n",
       "      <td>59598</td>\n",
       "      <td>Lockheed Martin</td>\n",
       "      <td>2023-02-09</td>\n",
       "      <td>Software Engineer</td>\n",
       "      <td>Software Developers, Applications</td>\n",
       "      <td>Huntsville</td>\n",
       "      <td>Alabama</td>\n",
       "      <td>Full-Time,Permanent</td>\n",
       "      <td>Bachelor's Degree</td>\n",
       "      <td>experience: Not Specified Job ID: 629268BR Dat...</td>\n",
       "      <td>1298</td>\n",
       "    </tr>\n",
       "    <tr>\n",
       "      <th>389</th>\n",
       "      <td>86715</td>\n",
       "      <td>Tesla Motors</td>\n",
       "      <td>2023-05-23</td>\n",
       "      <td>Senior Software Engineer - Supercharger</td>\n",
       "      <td>Software Developers, Applications</td>\n",
       "      <td>Palo Alto</td>\n",
       "      <td>California</td>\n",
       "      <td>Full-Time,Permanent</td>\n",
       "      <td>Bachelor's Degree</td>\n",
       "      <td>What to Expect We are the SuperchargerSoftware...</td>\n",
       "      <td>952</td>\n",
       "    </tr>\n",
       "    <tr>\n",
       "      <th>...</th>\n",
       "      <td>...</td>\n",
       "      <td>...</td>\n",
       "      <td>...</td>\n",
       "      <td>...</td>\n",
       "      <td>...</td>\n",
       "      <td>...</td>\n",
       "      <td>...</td>\n",
       "      <td>...</td>\n",
       "      <td>...</td>\n",
       "      <td>...</td>\n",
       "      <td>...</td>\n",
       "    </tr>\n",
       "    <tr>\n",
       "      <th>437</th>\n",
       "      <td>66670</td>\n",
       "      <td>Nvidia Corporation</td>\n",
       "      <td>2023-07-07</td>\n",
       "      <td>Senior Software Platform Integration Engineer ...</td>\n",
       "      <td>Software Developers, Applications</td>\n",
       "      <td>Santa Clara</td>\n",
       "      <td>California</td>\n",
       "      <td>Full-Time,Permanent</td>\n",
       "      <td>Bachelor's Degree</td>\n",
       "      <td>The NVIDIA GPU Cloud (NGC) organization is loo...</td>\n",
       "      <td>1067</td>\n",
       "    </tr>\n",
       "    <tr>\n",
       "      <th>63</th>\n",
       "      <td>32987</td>\n",
       "      <td>Google</td>\n",
       "      <td>2022-04-09</td>\n",
       "      <td>Software Engineer III, Google Photos</td>\n",
       "      <td>Software Developers, Applications</td>\n",
       "      <td>Unavailable</td>\n",
       "      <td>California</td>\n",
       "      <td>Full-Time,Permanent</td>\n",
       "      <td>Bachelor's Degree</td>\n",
       "      <td>Minimum qualifications: - Bachelor’s degree or...</td>\n",
       "      <td>708</td>\n",
       "    </tr>\n",
       "    <tr>\n",
       "      <th>478</th>\n",
       "      <td>30770</td>\n",
       "      <td>Google</td>\n",
       "      <td>2022-12-09</td>\n",
       "      <td>Software Engineer III, Mobile (Android), Geo</td>\n",
       "      <td>Software Developers, Applications</td>\n",
       "      <td>Unavailable</td>\n",
       "      <td>Unavailable</td>\n",
       "      <td>Full-Time,Permanent</td>\n",
       "      <td>Bachelor's Degree</td>\n",
       "      <td>Minimum qualifications: - Bachelor’s degree or...</td>\n",
       "      <td>946</td>\n",
       "    </tr>\n",
       "    <tr>\n",
       "      <th>2</th>\n",
       "      <td>57114</td>\n",
       "      <td>Leidos</td>\n",
       "      <td>2023-01-20</td>\n",
       "      <td>Senior UI/UX Software Engineer</td>\n",
       "      <td>Software Developers, Applications</td>\n",
       "      <td>Herndon</td>\n",
       "      <td>Virginia</td>\n",
       "      <td>Full-Time,Permanent</td>\n",
       "      <td>Bachelor's Degree</td>\n",
       "      <td>Description Job Description: Job Description L...</td>\n",
       "      <td>872</td>\n",
       "    </tr>\n",
       "    <tr>\n",
       "      <th>1117</th>\n",
       "      <td>67756</td>\n",
       "      <td>Nvidia Corporation</td>\n",
       "      <td>2021-10-11</td>\n",
       "      <td>Senior Developer Relations Manager, Digital Co...</td>\n",
       "      <td>Software Developers, Applications</td>\n",
       "      <td>Santa Clara</td>\n",
       "      <td>California</td>\n",
       "      <td>Full-Time,Permanent</td>\n",
       "      <td>Bachelor's Degree</td>\n",
       "      <td>Senior Developer Relations Manager – Digital C...</td>\n",
       "      <td>1381</td>\n",
       "    </tr>\n",
       "  </tbody>\n",
       "</table>\n",
       "<p>116 rows × 11 columns</p>\n",
       "</div>"
      ],
      "text/plain": [
       "      Job ID            Employer First Seen Date  \\\n",
       "356    66525  Nvidia Corporation      2023-07-17   \n",
       "753    79209  Target Corporation      2023-06-30   \n",
       "587    45318               Intel      2023-01-27   \n",
       "562    59598     Lockheed Martin      2023-02-09   \n",
       "389    86715        Tesla Motors      2023-05-23   \n",
       "...      ...                 ...             ...   \n",
       "437    66670  Nvidia Corporation      2023-07-07   \n",
       "63     32987              Google      2022-04-09   \n",
       "478    30770              Google      2022-12-09   \n",
       "2      57114              Leidos      2023-01-20   \n",
       "1117   67756  Nvidia Corporation      2021-10-11   \n",
       "\n",
       "                                                  Title  \\\n",
       "356   Principal Distributed Systems Engineer, AI inf...   \n",
       "753                                     Senior Engineer   \n",
       "587                  EDA Tools Software Engineer Intern   \n",
       "562                                   Software Engineer   \n",
       "389             Senior Software Engineer - Supercharger   \n",
       "...                                                 ...   \n",
       "437   Senior Software Platform Integration Engineer ...   \n",
       "63                 Software Engineer III, Google Photos   \n",
       "478        Software Engineer III, Mobile (Android), Geo   \n",
       "2                        Senior UI/UX Software Engineer   \n",
       "1117  Senior Developer Relations Manager, Digital Co...   \n",
       "\n",
       "                        Occupation Name                City        State  \\\n",
       "356   Software Developers, Applications  Multiple locations          NaN   \n",
       "753   Software Developers, Applications         Minneapolis    Minnesota   \n",
       "587   Software Developers, Applications           Nashville    Tennessee   \n",
       "562   Software Developers, Applications          Huntsville      Alabama   \n",
       "389   Software Developers, Applications           Palo Alto   California   \n",
       "...                                 ...                 ...          ...   \n",
       "437   Software Developers, Applications         Santa Clara   California   \n",
       "63    Software Developers, Applications         Unavailable   California   \n",
       "478   Software Developers, Applications         Unavailable  Unavailable   \n",
       "2     Software Developers, Applications             Herndon     Virginia   \n",
       "1117  Software Developers, Applications         Santa Clara   California   \n",
       "\n",
       "                  Job_Type          Education  \\\n",
       "356    Full-Time,Permanent    Master's Degree   \n",
       "753    Full-Time,Permanent  Bachelor's Degree   \n",
       "587   Full-Time,Internship    Master's Degree   \n",
       "562    Full-Time,Permanent  Bachelor's Degree   \n",
       "389    Full-Time,Permanent  Bachelor's Degree   \n",
       "...                    ...                ...   \n",
       "437    Full-Time,Permanent  Bachelor's Degree   \n",
       "63     Full-Time,Permanent  Bachelor's Degree   \n",
       "478    Full-Time,Permanent  Bachelor's Degree   \n",
       "2      Full-Time,Permanent  Bachelor's Degree   \n",
       "1117   Full-Time,Permanent  Bachelor's Degree   \n",
       "\n",
       "                                            Description  approx_tokens  \n",
       "356   We are now looking for a Principal Distributed...           1052  \n",
       "753   The pay range is: $130,998.00 - $150,800.00 In...            774  \n",
       "587   Intel Posted Under: Nashville, Tennessee jobs ...           1317  \n",
       "562   experience: Not Specified Job ID: 629268BR Dat...           1298  \n",
       "389   What to Expect We are the SuperchargerSoftware...            952  \n",
       "...                                                 ...            ...  \n",
       "437   The NVIDIA GPU Cloud (NGC) organization is loo...           1067  \n",
       "63    Minimum qualifications: - Bachelor’s degree or...            708  \n",
       "478   Minimum qualifications: - Bachelor’s degree or...            946  \n",
       "2     Description Job Description: Job Description L...            872  \n",
       "1117  Senior Developer Relations Manager – Digital C...           1381  \n",
       "\n",
       "[116 rows x 11 columns]"
      ]
     },
     "execution_count": 60,
     "metadata": {},
     "output_type": "execute_result"
    }
   ],
   "source": [
    "train[train.Description.str.contains(\"\\$\") & (train.Description.str.lower().str.contains(\"salary\"))]"
   ]
  },
  {
   "cell_type": "code",
   "execution_count": null,
   "metadata": {},
   "outputs": [],
   "source": []
  }
 ],
 "metadata": {
  "kernelspec": {
   "display_name": "python_39",
   "language": "python",
   "name": "python3"
  },
  "language_info": {
   "codemirror_mode": {
    "name": "ipython",
    "version": 3
   },
   "file_extension": ".py",
   "mimetype": "text/x-python",
   "name": "python",
   "nbconvert_exporter": "python",
   "pygments_lexer": "ipython3",
   "version": "3.9.16"
  },
  "orig_nbformat": 4
 },
 "nbformat": 4,
 "nbformat_minor": 2
}
