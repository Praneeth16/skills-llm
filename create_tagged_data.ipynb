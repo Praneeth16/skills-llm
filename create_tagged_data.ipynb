{
 "cells": [
  {
   "cell_type": "code",
   "execution_count": 1,
   "metadata": {},
   "outputs": [],
   "source": [
    "system_prompt = \"You are a helpful information extraction system.\"\n",
    "skill_template = \"\"\"Given a job description, your task is to extract all entities and identify their entity types. \n",
    "Extract specific entities skills (skills could be knowledge area, tools, technology or personal abilities), job title, education qualification,years of experience,location. \n",
    "The output should be in a list of tuples of the following format: [(\"entity 1\", \"type of entity 1\"), ... ].\n",
    "Job Description: {job_desc}\"\"\"\n",
    "\n",
    "salary_template = '''Given a job description, extract salary ranges by location, type of compensation it could be base or total or NA. \n",
    "In the format [(\"salary range 1\", \"location 1\", \"type of compensation 1\"), ...].\n",
    "Job Description: {job_desc}'''"
   ]
  },
  {
   "cell_type": "code",
   "execution_count": 57,
   "metadata": {},
   "outputs": [],
   "source": [
    "import ast\n",
    "import asyncio\n",
    "import os\n",
    "import glob\n",
    "\n",
    "from dotenv import load_dotenv\n",
    "import openai\n",
    "import pandas as pd\n",
    "from tqdm import tqdm\n",
    "import warnings\n",
    "\n",
    "import langchain\n",
    "from langchain.cache import SQLiteCache\n",
    "from langchain.chat_models import ChatOpenAI\n",
    "from langchain.prompts.chat import ChatPromptTemplate\n",
    "from langchain.schema import BaseOutputParser\n",
    "\n",
    "\n",
    "# set llm environment variables\n",
    "load_dotenv()\n",
    "openai.api_key = os.getenv(\"OPENAI_KEY\")\n",
    "os.environ[\"OPENAI_API_KEY\"] = os.getenv(\"OPENAI_KEY\")\n",
    "\n",
    "# setting up cache\n",
    "langchain.llm_cache = SQLiteCache(database_path=\"data/langchain_openai.db\")\n",
    "\n",
    "# set jupyter env variables\n",
    "tqdm.pandas()\n",
    "warnings.filterwarnings(\"ignore\")\n",
    "pd.set_option(\"display.max_columns\", None)"
   ]
  },
  {
   "cell_type": "code",
   "execution_count": 3,
   "metadata": {},
   "outputs": [
    {
     "name": "stdout",
     "output_type": "stream",
     "text": [
      "(1020, 11)\n",
      "(180, 11)\n"
     ]
    }
   ],
   "source": [
    "train = pd.read_csv(\"data\\job_description_train.csv\")\n",
    "test = pd.read_csv(\"data\\job_description_test.csv\")\n",
    "print(train.shape)\n",
    "print(test.shape)"
   ]
  },
  {
   "cell_type": "code",
   "execution_count": 4,
   "metadata": {},
   "outputs": [
    {
     "data": {
      "text/plain": [
       "'[(\"Principal Distributed Systems Engineer\", \"job title\"), \\n(\"NVIDIA\", \"location\"), \\n(\"AI\", \"skills\"), \\n(\"deep learning\", \"skills\"), \\n(\"software 2.0 cloud platform\", \"skills\"), \\n(\"autonomous vehicles\", \"skills\"), \\n(\"robotics\", \"skills\"), \\n(\"virtual reality\", \"skills\"), \\n(\"healthcare\", \"skills\"), \\n(\"genomics\", \"skills\"), \\n(\"data science\", \"skills\"), \\n(\"Architect\", \"skills\"), \\n(\"distributed services\", \"skills\"), \\n(\"AI infrastructure\", \"skills\"), \\n(\"deep learning platforms\", \"skills\"), \\n(\"infrastructure\", \"skills\"), \\n(\"microservices\", \"skills\"), \\n(\"PB sized deep learning datasets\", \"skills\"), \\n(\"dataset management services\", \"skills\"), \\n(\"real and synthetic / simulated datasets\", \"skills\"), \\n(\"smart data selection\", \"skills\"), \\n(\"machine learning\", \"skills\"), \\n(\"technical leader\", \"skills\"), \\n(\"AI product teams\", \"skills\"), \\n(\"data and compute requirements\", \"skills\"), \\n(\"support infrastructure\", \"skills\"), \\n(\"AI applied researchers\", \"skills\"), \\n(\"future-proof infrastructure\", \"skills\"), \\n(\"Masters\", \"education qualification\"), \\n(\"Computer Architecture\", \"education qualification\"), \\n(\"Computer Science\", \"education qualification\"), \\n(\"Electrical Engineering\", \"education qualification\"), \\n(\"14+ years\", \"years of experience\"), \\n(\"distributed systems development\", \"skills\"), \\n(\"design\", \"skills\"), \\n(\"programming background\", \"skills\"), \\n(\"data structures\", \"skills\"), \\n(\"design patterns\", \"skills\"), \\n(\"OOP\", \"skills\"), \\n(\"test driven development\", \"skills\"), \\n(\"cloud technologies\", \"skills\"), \\n(\"distributed compute systems\", \"skills\"), \\n(\"distributed systems\", \"skills\"), \\n(\"microservices architecture\", \"skills\"), \\n(\"programming skills\", \"skills\"), \\n(\"distributed storage\", \"skills\"), \\n(\"backend services\", \"skills\"), \\n(\"web technologies\", \"skills\"), \\n(\"Go\", \"skills\"), \\n(\"C/C++\", \"skills\"), \\n(\"technical design requirements\", \"skills\"), \\n(\"architecture\", \"skills\"), \\n(\"agile environment\", \"skills\"), \\n(\"production grade at scale systems\", \"skills\"), \\n(\"track record\", \"skills\"), \\n(\"technical leadership\", \"skills\"), \\n(\"large-scale architecture\", \"skills\"), \\n(\"long-term strategic management\", \"skills\"), \\n(\"near-term tactical management\", \"skills\"), \\n(\"interpersonal skills\", \"skills\"), \\n(\"multi-functional teams\", \"skills\"), \\n(\"principles and architects\", \"skills\"), \\n(\"organizational boundaries\", \"skills\"), \\n(\"geographies\", \"skills\"), \\n(\"Scala\", \"skills\"), \\n(\"Kubernetes\", \"skills\"), \\n(\"Docker\", \"skills\"), \\n(\"CI/CD\", \"skills\"), \\n(\"DevOps\", \"skills\"), \\n(\"distributed systems\", \"skills\"), \\n(\"parallel computing\", \"skills\"), \\n(\"base salary range\", \"skills\"), \\n(\"location\", \"skills\"), \\n(\"experience\", \"skills\"), \\n(\"employees\", \"skills\"), \\n(\"equity\", \"skills\"), \\n(\"benefits\", \"skills\"), \\n(\"diverse work environment\", \"skills\"), \\n(\"equal opportunity employer\", \"skills\"), \\n(\"race\", \"skills\"), \\n(\"religion\", \"skills\"), \\n(\"color\", \"skills\"), \\n(\"national origin\", \"skills\"), \\n(\"gender\", \"skills\"), \\n(\"gender expression\", \"skills\"), \\n(\"sexual orientation\", \"skills\"), \\n(\"age\", \"skills\"), \\n(\"marital status\", \"skills\"), \\n(\"veteran status\", \"skills\"), \\n(\"disability status\", \"skills\"), \\n(\"characteristic\", \"skills\"), \\n(\"law\", \"skills\"), \\n(\"deeplearning\", \"skills\")]'"
      ]
     },
     "execution_count": 4,
     "metadata": {},
     "output_type": "execute_result"
    }
   ],
   "source": [
    "skill_prompt = ChatPromptTemplate.from_messages([\n",
    "    (\"system\", system_prompt),\n",
    "    (\"human\", skill_template)\n",
    "])\n",
    "skill_chain = skill_prompt | ChatOpenAI(temperature=0)\n",
    "skill_chain.invoke({\"job_desc\": train.Description[0]}).content"
   ]
  },
  {
   "cell_type": "code",
   "execution_count": 5,
   "metadata": {},
   "outputs": [
    {
     "data": {
      "text/plain": [
       "'[(\"$268,000 - $414,000\", \"NA\", \"base\"), (\"NA\", \"NA\", \"total\")]'"
      ]
     },
     "execution_count": 5,
     "metadata": {},
     "output_type": "execute_result"
    }
   ],
   "source": [
    "salary_prompt = ChatPromptTemplate.from_messages([\n",
    "    (\"system\", system_prompt),\n",
    "    (\"human\", salary_template)\n",
    "])\n",
    "salary_chain = salary_prompt | ChatOpenAI(temperature=0)\n",
    "salary_chain.invoke({\"job_desc\": train.Description[0]}).content"
   ]
  },
  {
   "cell_type": "code",
   "execution_count": 10,
   "metadata": {},
   "outputs": [],
   "source": [
    "def extract_jd_info(jd, skill_chain=skill_chain, salary_chain=salary_chain):\n",
    "    skill_output = skill_chain.invoke({'job_desc': jd}).content\n",
    "    salary_output = salary_chain.invoke({'job_desc': jd}).content\n",
    "    return skill_output, salary_output"
   ]
  },
  {
   "cell_type": "code",
   "execution_count": 13,
   "metadata": {},
   "outputs": [
    {
     "data": {
      "text/plain": [
       "('[(\"Senior Engineer\", \"job title\"), (\"Java\", \"skills\"), (\"J2EE\", \"skills\"), (\"Oracle\", \"skills\"), (\"MongoDB\", \"skills\"), (\"Gradle\", \"skills\"), (\"REST API\", \"skills\"), (\"Spring MVC\", \"skills\"), (\"DevOps\", \"skills\"), (\"CI/CD\", \"skills\"), (\"Docker\", \"skills\"), (\"GitHub\", \"skills\"), (\"Maven\", \"skills\"), (\"IntelliJ IDEA\", \"skills\"), (\"Windows Server\", \"skills\"), (\"Unix Servers\", \"skills\"), (\"Unix scripting\", \"skills\"), (\"SQL\", \"skills\"), (\"Minneapolis-area Target office\", \"location\"), (\"Bachelor’s degree in Computer Science, Computer Engineering, Information Technology, or a closely related field\", \"education qualification\"), (\"five (5) years of post-baccalaureate, progressive experience in systems administration/infrastructure support\", \"years of experience\"), (\"Java, Oracle, Windows Server, Unix Servers, Unix scripting, and SQL\", \"skills\"), (\"Minneapolis-area Target office\", \"location\")]',\n",
       " '[(\"$130,998.00 - $150,800.00\", \"Brooklyn Park, MN 55445\", \"NA\")]')"
      ]
     },
     "execution_count": 13,
     "metadata": {},
     "output_type": "execute_result"
    }
   ],
   "source": [
    "extract_jd_info(train.Description[1])"
   ]
  },
  {
   "cell_type": "code",
   "execution_count": 75,
   "metadata": {},
   "outputs": [
    {
     "name": "stdout",
     "output_type": "stream",
     "text": [
      "(387, 14)\n",
      "387\n"
     ]
    }
   ],
   "source": [
    "train_prev = pd.concat([pd.read_csv(i) for i in glob.glob(\"data/prediction/*.csv\")])\n",
    "print(train_prev.shape)\n",
    "ids = train_prev[\"Job ID\"].unique().tolist()\n",
    "print(len(ids))"
   ]
  },
  {
   "cell_type": "code",
   "execution_count": 76,
   "metadata": {},
   "outputs": [],
   "source": [
    "train_int = train[~train[\"Job ID\"].isin(ids)].sample(200, random_state=100).reset_index(drop=True)"
   ]
  },
  {
   "cell_type": "code",
   "execution_count": 77,
   "metadata": {},
   "outputs": [
    {
     "name": "stderr",
     "output_type": "stream",
     "text": [
      "  6%|▌         | 11/200 [02:16<50:59, 16.19s/it]Retrying langchain.chat_models.openai.ChatOpenAI.completion_with_retry.<locals>._completion_with_retry in 4.0 seconds as it raised Timeout: Request timed out: HTTPSConnectionPool(host='api.openai.com', port=443): Read timed out. (read timeout=600).\n",
      "100%|██████████| 200/200 [1:10:52<00:00, 21.26s/it] \n"
     ]
    }
   ],
   "source": [
    "train_int[\"openai_output\"] = train_int.Description.progress_apply(lambda text: extract_jd_info(text))"
   ]
  },
  {
   "cell_type": "markdown",
   "metadata": {},
   "source": [
    "It takes close to 40 minutes to extract the desired information from job descriptions using OpenAI-3.5-turbo"
   ]
  },
  {
   "cell_type": "code",
   "execution_count": 78,
   "metadata": {},
   "outputs": [],
   "source": [
    "def parse_openai_response(res):\n",
    "    try:\n",
    "        res = ast.literal_eval(res)\n",
    "    except:\n",
    "        res = []\n",
    "    return res\n",
    "\n",
    "def filter_responses(res):\n",
    "    if len(res) >= 2:\n",
    "        res_upd = [i for i in res if i != ('NA', 'NA', 'NA')]\n",
    "    else:\n",
    "        res_upd = res\n",
    "    return res_upd"
   ]
  },
  {
   "cell_type": "code",
   "execution_count": 79,
   "metadata": {},
   "outputs": [
    {
     "name": "stdout",
     "output_type": "stream",
     "text": [
      "(193, 14)\n"
     ]
    }
   ],
   "source": [
    "train_int[\"skills\"] = train_int.openai_output.apply(lambda x: parse_openai_response(x[0]))\n",
    "train_int[\"salary\"] = train_int.openai_output.apply(lambda x: parse_openai_response(x[1]))\n",
    "train_int[\"salary\"] = train_int[\"salary\"].apply(lambda x: filter_responses(x))\n",
    "\n",
    "train_int = train_int[(train_int.skills.astype(str)!=\"[]\")]\n",
    "train_int = train_int[(train_int.salary.astype(str)!=\"[]\")]\n",
    "\n",
    "print(train_int.shape)"
   ]
  },
  {
   "cell_type": "code",
   "execution_count": 80,
   "metadata": {},
   "outputs": [],
   "source": [
    "train_int.to_csv(\"data/prediction/tagged_data_v4.csv\", index=False)"
   ]
  },
  {
   "cell_type": "code",
   "execution_count": null,
   "metadata": {},
   "outputs": [],
   "source": []
  },
  {
   "cell_type": "code",
   "execution_count": null,
   "metadata": {},
   "outputs": [],
   "source": []
  }
 ],
 "metadata": {
  "kernelspec": {
   "display_name": "python_39",
   "language": "python",
   "name": "python3"
  },
  "language_info": {
   "codemirror_mode": {
    "name": "ipython",
    "version": 3
   },
   "file_extension": ".py",
   "mimetype": "text/x-python",
   "name": "python",
   "nbconvert_exporter": "python",
   "pygments_lexer": "ipython3",
   "version": "3.9.16"
  },
  "orig_nbformat": 4
 },
 "nbformat": 4,
 "nbformat_minor": 2
}
